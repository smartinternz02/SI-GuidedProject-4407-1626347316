{
 "cells": [
  {
   "cell_type": "markdown",
   "id": "b09d82e8",
   "metadata": {},
   "source": [
    "# Importing the libraries"
   ]
  },
  {
   "cell_type": "code",
   "execution_count": 1,
   "id": "d3b17adc",
   "metadata": {},
   "outputs": [],
   "source": [
    "#Importing the required libraries\n",
    "import pandas as pd\n",
    "import numpy as np\n",
    "from collections import Counter as c\n",
    "import matplotlib.pyplot as plt\n",
    "from sklearn import preprocessing\n",
    "import seaborn as sns\n",
    "from sklearn.model_selection import train_test_split\n",
    "from sklearn.linear_model import LogisticRegression"
   ]
  },
  {
   "cell_type": "code",
   "execution_count": 2,
   "id": "known-kitchen",
   "metadata": {},
   "outputs": [
    {
     "name": "stdout",
     "output_type": "stream",
     "text": [
      "Requirement already satisfied: ibm_watson_machine_learning in c:\\users\\nagayelamarthi\\anaconda3\\lib\\site-packages (1.0.116)\n",
      "Requirement already satisfied: requests in c:\\users\\nagayelamarthi\\anaconda3\\lib\\site-packages (from ibm_watson_machine_learning) (2.25.1)\n",
      "Requirement already satisfied: certifi in c:\\users\\nagayelamarthi\\anaconda3\\lib\\site-packages (from ibm_watson_machine_learning) (2020.12.5)\n",
      "Requirement already satisfied: lomond in c:\\users\\nagayelamarthi\\anaconda3\\lib\\site-packages (from ibm_watson_machine_learning) (0.3.3)\n",
      "Requirement already satisfied: ibm-cos-sdk==2.7.* in c:\\users\\nagayelamarthi\\anaconda3\\lib\\site-packages (from ibm_watson_machine_learning) (2.7.0)\n",
      "Requirement already satisfied: packaging in c:\\users\\nagayelamarthi\\anaconda3\\lib\\site-packages (from ibm_watson_machine_learning) (20.9)\n",
      "Requirement already satisfied: pandas<1.3.0,>=0.24.2 in c:\\users\\nagayelamarthi\\anaconda3\\lib\\site-packages (from ibm_watson_machine_learning) (1.2.4)\n",
      "Requirement already satisfied: urllib3 in c:\\users\\nagayelamarthi\\anaconda3\\lib\\site-packages (from ibm_watson_machine_learning) (1.26.4)\n",
      "Requirement already satisfied: tabulate in c:\\users\\nagayelamarthi\\anaconda3\\lib\\site-packages (from ibm_watson_machine_learning) (0.8.9)\n",
      "Requirement already satisfied: jmespath<1.0.0,>=0.7.1 in c:\\users\\nagayelamarthi\\anaconda3\\lib\\site-packages (from ibm-cos-sdk==2.7.*->ibm_watson_machine_learning) (0.10.0)\n",
      "Requirement already satisfied: ibm-cos-sdk-s3transfer==2.7.0 in c:\\users\\nagayelamarthi\\anaconda3\\lib\\site-packages (from ibm-cos-sdk==2.7.*->ibm_watson_machine_learning) (2.7.0)\n",
      "Requirement already satisfied: ibm-cos-sdk-core==2.7.0 in c:\\users\\nagayelamarthi\\anaconda3\\lib\\site-packages (from ibm-cos-sdk==2.7.*->ibm_watson_machine_learning) (2.7.0)\n",
      "Requirement already satisfied: docutils<0.16,>=0.10 in c:\\users\\nagayelamarthi\\anaconda3\\lib\\site-packages (from ibm-cos-sdk-core==2.7.0->ibm-cos-sdk==2.7.*->ibm_watson_machine_learning) (0.15.2)\n",
      "Requirement already satisfied: python-dateutil<3.0.0,>=2.1 in c:\\users\\nagayelamarthi\\anaconda3\\lib\\site-packages (from ibm-cos-sdk-core==2.7.0->ibm-cos-sdk==2.7.*->ibm_watson_machine_learning) (2.8.1)\n",
      "Requirement already satisfied: numpy>=1.16.5 in c:\\users\\nagayelamarthi\\anaconda3\\lib\\site-packages (from pandas<1.3.0,>=0.24.2->ibm_watson_machine_learning) (1.19.5)\n",
      "Requirement already satisfied: pytz>=2017.3 in c:\\users\\nagayelamarthi\\anaconda3\\lib\\site-packages (from pandas<1.3.0,>=0.24.2->ibm_watson_machine_learning) (2021.1)\n",
      "Requirement already satisfied: six>=1.5 in c:\\users\\nagayelamarthi\\anaconda3\\lib\\site-packages (from python-dateutil<3.0.0,>=2.1->ibm-cos-sdk-core==2.7.0->ibm-cos-sdk==2.7.*->ibm_watson_machine_learning) (1.15.0)\n",
      "Requirement already satisfied: idna<3,>=2.5 in c:\\users\\nagayelamarthi\\anaconda3\\lib\\site-packages (from requests->ibm_watson_machine_learning) (2.10)\n",
      "Requirement already satisfied: chardet<5,>=3.0.2 in c:\\users\\nagayelamarthi\\anaconda3\\lib\\site-packages (from requests->ibm_watson_machine_learning) (4.0.0)\n",
      "Requirement already satisfied: pyparsing>=2.0.2 in c:\\users\\nagayelamarthi\\anaconda3\\lib\\site-packages (from packaging->ibm_watson_machine_learning) (2.4.7)\n"
     ]
    }
   ],
   "source": [
    "!pip install ibm_watson_machine_learning"
   ]
  },
  {
   "cell_type": "code",
   "execution_count": null,
   "id": "accredited-mustang",
   "metadata": {},
   "outputs": [],
   "source": []
  },
  {
   "cell_type": "markdown",
   "id": "8c3af1e3",
   "metadata": {},
   "source": [
    "# Loading the dataset"
   ]
  },
  {
   "cell_type": "code",
   "execution_count": 5,
   "id": "ce4f110d",
   "metadata": {
    "scrolled": true
   },
   "outputs": [
    {
     "data": {
      "text/html": [
       "<div>\n",
       "<style scoped>\n",
       "    .dataframe tbody tr th:only-of-type {\n",
       "        vertical-align: middle;\n",
       "    }\n",
       "\n",
       "    .dataframe tbody tr th {\n",
       "        vertical-align: top;\n",
       "    }\n",
       "\n",
       "    .dataframe thead th {\n",
       "        text-align: right;\n",
       "    }\n",
       "</style>\n",
       "<table border=\"1\" class=\"dataframe\">\n",
       "  <thead>\n",
       "    <tr style=\"text-align: right;\">\n",
       "      <th></th>\n",
       "      <th>Loan ID</th>\n",
       "      <th>Customer ID</th>\n",
       "      <th>Loan Status</th>\n",
       "      <th>Current Loan Amount</th>\n",
       "      <th>Term</th>\n",
       "      <th>Credit Score</th>\n",
       "      <th>Annual Income</th>\n",
       "      <th>Years in current job</th>\n",
       "      <th>Home Ownership</th>\n",
       "      <th>Purpose</th>\n",
       "      <th>Monthly Debt</th>\n",
       "      <th>Years of Credit History</th>\n",
       "      <th>Months since last delinquent</th>\n",
       "      <th>Number of Open Accounts</th>\n",
       "      <th>Number of Credit Problems</th>\n",
       "      <th>Current Credit Balance</th>\n",
       "      <th>Maximum Open Credit</th>\n",
       "      <th>Bankruptcies</th>\n",
       "      <th>Tax Liens</th>\n",
       "    </tr>\n",
       "  </thead>\n",
       "  <tbody>\n",
       "    <tr>\n",
       "      <th>0</th>\n",
       "      <td>14dd8831-6af5-400b-83ec-68e61888a048</td>\n",
       "      <td>981165ec-3274-42f5-a3b4-d104041a9ca9</td>\n",
       "      <td>Fully Paid</td>\n",
       "      <td>445412.0</td>\n",
       "      <td>Short Term</td>\n",
       "      <td>709.0</td>\n",
       "      <td>1167493.0</td>\n",
       "      <td>8 years</td>\n",
       "      <td>Home Mortgage</td>\n",
       "      <td>Home Improvements</td>\n",
       "      <td>5214.74</td>\n",
       "      <td>17.2</td>\n",
       "      <td>NaN</td>\n",
       "      <td>6.0</td>\n",
       "      <td>1.0</td>\n",
       "      <td>228190.0</td>\n",
       "      <td>416746.0</td>\n",
       "      <td>1.0</td>\n",
       "      <td>0.0</td>\n",
       "    </tr>\n",
       "    <tr>\n",
       "      <th>1</th>\n",
       "      <td>4771cc26-131a-45db-b5aa-537ea4ba5342</td>\n",
       "      <td>2de017a3-2e01-49cb-a581-08169e83be29</td>\n",
       "      <td>Fully Paid</td>\n",
       "      <td>262328.0</td>\n",
       "      <td>Short Term</td>\n",
       "      <td>NaN</td>\n",
       "      <td>NaN</td>\n",
       "      <td>10+ years</td>\n",
       "      <td>Home Mortgage</td>\n",
       "      <td>Debt Consolidation</td>\n",
       "      <td>33295.98</td>\n",
       "      <td>21.1</td>\n",
       "      <td>8.0</td>\n",
       "      <td>35.0</td>\n",
       "      <td>0.0</td>\n",
       "      <td>229976.0</td>\n",
       "      <td>850784.0</td>\n",
       "      <td>0.0</td>\n",
       "      <td>0.0</td>\n",
       "    </tr>\n",
       "    <tr>\n",
       "      <th>2</th>\n",
       "      <td>4eed4e6a-aa2f-4c91-8651-ce984ee8fb26</td>\n",
       "      <td>5efb2b2b-bf11-4dfd-a572-3761a2694725</td>\n",
       "      <td>Fully Paid</td>\n",
       "      <td>99999999.0</td>\n",
       "      <td>Short Term</td>\n",
       "      <td>741.0</td>\n",
       "      <td>2231892.0</td>\n",
       "      <td>8 years</td>\n",
       "      <td>Own Home</td>\n",
       "      <td>Debt Consolidation</td>\n",
       "      <td>29200.53</td>\n",
       "      <td>14.9</td>\n",
       "      <td>29.0</td>\n",
       "      <td>18.0</td>\n",
       "      <td>1.0</td>\n",
       "      <td>297996.0</td>\n",
       "      <td>750090.0</td>\n",
       "      <td>0.0</td>\n",
       "      <td>0.0</td>\n",
       "    </tr>\n",
       "    <tr>\n",
       "      <th>3</th>\n",
       "      <td>77598f7b-32e7-4e3b-a6e5-06ba0d98fe8a</td>\n",
       "      <td>e777faab-98ae-45af-9a86-7ce5b33b1011</td>\n",
       "      <td>Fully Paid</td>\n",
       "      <td>347666.0</td>\n",
       "      <td>Long Term</td>\n",
       "      <td>721.0</td>\n",
       "      <td>806949.0</td>\n",
       "      <td>3 years</td>\n",
       "      <td>Own Home</td>\n",
       "      <td>Debt Consolidation</td>\n",
       "      <td>8741.90</td>\n",
       "      <td>12.0</td>\n",
       "      <td>NaN</td>\n",
       "      <td>9.0</td>\n",
       "      <td>0.0</td>\n",
       "      <td>256329.0</td>\n",
       "      <td>386958.0</td>\n",
       "      <td>0.0</td>\n",
       "      <td>0.0</td>\n",
       "    </tr>\n",
       "    <tr>\n",
       "      <th>4</th>\n",
       "      <td>d4062e70-befa-4995-8643-a0de73938182</td>\n",
       "      <td>81536ad9-5ccf-4eb8-befb-47a4d608658e</td>\n",
       "      <td>Fully Paid</td>\n",
       "      <td>176220.0</td>\n",
       "      <td>Short Term</td>\n",
       "      <td>NaN</td>\n",
       "      <td>NaN</td>\n",
       "      <td>5 years</td>\n",
       "      <td>Rent</td>\n",
       "      <td>Debt Consolidation</td>\n",
       "      <td>20639.70</td>\n",
       "      <td>6.1</td>\n",
       "      <td>NaN</td>\n",
       "      <td>15.0</td>\n",
       "      <td>0.0</td>\n",
       "      <td>253460.0</td>\n",
       "      <td>427174.0</td>\n",
       "      <td>0.0</td>\n",
       "      <td>0.0</td>\n",
       "    </tr>\n",
       "  </tbody>\n",
       "</table>\n",
       "</div>"
      ],
      "text/plain": [
       "                                Loan ID                           Customer ID  \\\n",
       "0  14dd8831-6af5-400b-83ec-68e61888a048  981165ec-3274-42f5-a3b4-d104041a9ca9   \n",
       "1  4771cc26-131a-45db-b5aa-537ea4ba5342  2de017a3-2e01-49cb-a581-08169e83be29   \n",
       "2  4eed4e6a-aa2f-4c91-8651-ce984ee8fb26  5efb2b2b-bf11-4dfd-a572-3761a2694725   \n",
       "3  77598f7b-32e7-4e3b-a6e5-06ba0d98fe8a  e777faab-98ae-45af-9a86-7ce5b33b1011   \n",
       "4  d4062e70-befa-4995-8643-a0de73938182  81536ad9-5ccf-4eb8-befb-47a4d608658e   \n",
       "\n",
       "  Loan Status  Current Loan Amount        Term  Credit Score  Annual Income  \\\n",
       "0  Fully Paid             445412.0  Short Term         709.0      1167493.0   \n",
       "1  Fully Paid             262328.0  Short Term           NaN            NaN   \n",
       "2  Fully Paid           99999999.0  Short Term         741.0      2231892.0   \n",
       "3  Fully Paid             347666.0   Long Term         721.0       806949.0   \n",
       "4  Fully Paid             176220.0  Short Term           NaN            NaN   \n",
       "\n",
       "  Years in current job Home Ownership             Purpose  Monthly Debt  \\\n",
       "0              8 years  Home Mortgage   Home Improvements       5214.74   \n",
       "1            10+ years  Home Mortgage  Debt Consolidation      33295.98   \n",
       "2              8 years       Own Home  Debt Consolidation      29200.53   \n",
       "3              3 years       Own Home  Debt Consolidation       8741.90   \n",
       "4              5 years           Rent  Debt Consolidation      20639.70   \n",
       "\n",
       "   Years of Credit History  Months since last delinquent  \\\n",
       "0                     17.2                           NaN   \n",
       "1                     21.1                           8.0   \n",
       "2                     14.9                          29.0   \n",
       "3                     12.0                           NaN   \n",
       "4                      6.1                           NaN   \n",
       "\n",
       "   Number of Open Accounts  Number of Credit Problems  Current Credit Balance  \\\n",
       "0                      6.0                        1.0                228190.0   \n",
       "1                     35.0                        0.0                229976.0   \n",
       "2                     18.0                        1.0                297996.0   \n",
       "3                      9.0                        0.0                256329.0   \n",
       "4                     15.0                        0.0                253460.0   \n",
       "\n",
       "   Maximum Open Credit  Bankruptcies  Tax Liens  \n",
       "0             416746.0           1.0        0.0  \n",
       "1             850784.0           0.0        0.0  \n",
       "2             750090.0           0.0        0.0  \n",
       "3             386958.0           0.0        0.0  \n",
       "4             427174.0           0.0        0.0  "
      ]
     },
     "execution_count": 5,
     "metadata": {},
     "output_type": "execute_result"
    }
   ],
   "source": [
    "dataset = pd.read_csv('credit_train.csv')\n",
    "dataset.head()"
   ]
  },
  {
   "cell_type": "code",
   "execution_count": 6,
   "id": "2c5ab6f4",
   "metadata": {},
   "outputs": [
    {
     "data": {
      "text/plain": [
       "(100514, 19)"
      ]
     },
     "execution_count": 6,
     "metadata": {},
     "output_type": "execute_result"
    }
   ],
   "source": [
    "#finding the number of rows and columns\n",
    "dataset.shape"
   ]
  },
  {
   "cell_type": "code",
   "execution_count": 7,
   "id": "b231c02c",
   "metadata": {},
   "outputs": [
    {
     "data": {
      "text/plain": [
       "Index(['Loan ID', 'Customer ID', 'Loan Status', 'Current Loan Amount', 'Term',\n",
       "       'Credit Score', 'Annual Income', 'Years in current job',\n",
       "       'Home Ownership', 'Purpose', 'Monthly Debt', 'Years of Credit History',\n",
       "       'Months since last delinquent', 'Number of Open Accounts',\n",
       "       'Number of Credit Problems', 'Current Credit Balance',\n",
       "       'Maximum Open Credit', 'Bankruptcies', 'Tax Liens'],\n",
       "      dtype='object')"
      ]
     },
     "execution_count": 7,
     "metadata": {},
     "output_type": "execute_result"
    }
   ],
   "source": [
    "#lists out the names of the columns \n",
    "dataset.columns   "
   ]
  },
  {
   "cell_type": "code",
   "execution_count": 8,
   "id": "39f4c5a5",
   "metadata": {},
   "outputs": [
    {
     "data": {
      "text/html": [
       "<div>\n",
       "<style scoped>\n",
       "    .dataframe tbody tr th:only-of-type {\n",
       "        vertical-align: middle;\n",
       "    }\n",
       "\n",
       "    .dataframe tbody tr th {\n",
       "        vertical-align: top;\n",
       "    }\n",
       "\n",
       "    .dataframe thead th {\n",
       "        text-align: right;\n",
       "    }\n",
       "</style>\n",
       "<table border=\"1\" class=\"dataframe\">\n",
       "  <thead>\n",
       "    <tr style=\"text-align: right;\">\n",
       "      <th></th>\n",
       "      <th>Loan ID</th>\n",
       "      <th>Customer ID</th>\n",
       "      <th>Loan Status</th>\n",
       "      <th>Current Loan Amount</th>\n",
       "      <th>Term</th>\n",
       "      <th>Credit Score</th>\n",
       "      <th>Annual Income</th>\n",
       "      <th>Years in current job</th>\n",
       "      <th>Home Ownership</th>\n",
       "      <th>Purpose</th>\n",
       "      <th>Monthly Debt</th>\n",
       "      <th>Years of Credit History</th>\n",
       "      <th>Months since last delinquent</th>\n",
       "      <th>Number of Open Accounts</th>\n",
       "      <th>Number of Credit Problems</th>\n",
       "      <th>Current Credit Balance</th>\n",
       "      <th>Maximum Open Credit</th>\n",
       "      <th>Bankruptcies</th>\n",
       "      <th>Tax Liens</th>\n",
       "    </tr>\n",
       "  </thead>\n",
       "  <tbody>\n",
       "    <tr>\n",
       "      <th>0</th>\n",
       "      <td>14dd8831-6af5-400b-83ec-68e61888a048</td>\n",
       "      <td>981165ec-3274-42f5-a3b4-d104041a9ca9</td>\n",
       "      <td>Fully Paid</td>\n",
       "      <td>445412.0</td>\n",
       "      <td>Short Term</td>\n",
       "      <td>709.0</td>\n",
       "      <td>1167493.0</td>\n",
       "      <td>8 years</td>\n",
       "      <td>Home Mortgage</td>\n",
       "      <td>Home Improvements</td>\n",
       "      <td>5214.74</td>\n",
       "      <td>17.2</td>\n",
       "      <td>NaN</td>\n",
       "      <td>6.0</td>\n",
       "      <td>1.0</td>\n",
       "      <td>228190.0</td>\n",
       "      <td>416746.0</td>\n",
       "      <td>1.0</td>\n",
       "      <td>0.0</td>\n",
       "    </tr>\n",
       "    <tr>\n",
       "      <th>1</th>\n",
       "      <td>4771cc26-131a-45db-b5aa-537ea4ba5342</td>\n",
       "      <td>2de017a3-2e01-49cb-a581-08169e83be29</td>\n",
       "      <td>Fully Paid</td>\n",
       "      <td>262328.0</td>\n",
       "      <td>Short Term</td>\n",
       "      <td>NaN</td>\n",
       "      <td>NaN</td>\n",
       "      <td>10+ years</td>\n",
       "      <td>Home Mortgage</td>\n",
       "      <td>Debt Consolidation</td>\n",
       "      <td>33295.98</td>\n",
       "      <td>21.1</td>\n",
       "      <td>8.0</td>\n",
       "      <td>35.0</td>\n",
       "      <td>0.0</td>\n",
       "      <td>229976.0</td>\n",
       "      <td>850784.0</td>\n",
       "      <td>0.0</td>\n",
       "      <td>0.0</td>\n",
       "    </tr>\n",
       "    <tr>\n",
       "      <th>2</th>\n",
       "      <td>4eed4e6a-aa2f-4c91-8651-ce984ee8fb26</td>\n",
       "      <td>5efb2b2b-bf11-4dfd-a572-3761a2694725</td>\n",
       "      <td>Fully Paid</td>\n",
       "      <td>99999999.0</td>\n",
       "      <td>Short Term</td>\n",
       "      <td>741.0</td>\n",
       "      <td>2231892.0</td>\n",
       "      <td>8 years</td>\n",
       "      <td>Own Home</td>\n",
       "      <td>Debt Consolidation</td>\n",
       "      <td>29200.53</td>\n",
       "      <td>14.9</td>\n",
       "      <td>29.0</td>\n",
       "      <td>18.0</td>\n",
       "      <td>1.0</td>\n",
       "      <td>297996.0</td>\n",
       "      <td>750090.0</td>\n",
       "      <td>0.0</td>\n",
       "      <td>0.0</td>\n",
       "    </tr>\n",
       "    <tr>\n",
       "      <th>3</th>\n",
       "      <td>77598f7b-32e7-4e3b-a6e5-06ba0d98fe8a</td>\n",
       "      <td>e777faab-98ae-45af-9a86-7ce5b33b1011</td>\n",
       "      <td>Fully Paid</td>\n",
       "      <td>347666.0</td>\n",
       "      <td>Long Term</td>\n",
       "      <td>721.0</td>\n",
       "      <td>806949.0</td>\n",
       "      <td>3 years</td>\n",
       "      <td>Own Home</td>\n",
       "      <td>Debt Consolidation</td>\n",
       "      <td>8741.90</td>\n",
       "      <td>12.0</td>\n",
       "      <td>NaN</td>\n",
       "      <td>9.0</td>\n",
       "      <td>0.0</td>\n",
       "      <td>256329.0</td>\n",
       "      <td>386958.0</td>\n",
       "      <td>0.0</td>\n",
       "      <td>0.0</td>\n",
       "    </tr>\n",
       "    <tr>\n",
       "      <th>4</th>\n",
       "      <td>d4062e70-befa-4995-8643-a0de73938182</td>\n",
       "      <td>81536ad9-5ccf-4eb8-befb-47a4d608658e</td>\n",
       "      <td>Fully Paid</td>\n",
       "      <td>176220.0</td>\n",
       "      <td>Short Term</td>\n",
       "      <td>NaN</td>\n",
       "      <td>NaN</td>\n",
       "      <td>5 years</td>\n",
       "      <td>Rent</td>\n",
       "      <td>Debt Consolidation</td>\n",
       "      <td>20639.70</td>\n",
       "      <td>6.1</td>\n",
       "      <td>NaN</td>\n",
       "      <td>15.0</td>\n",
       "      <td>0.0</td>\n",
       "      <td>253460.0</td>\n",
       "      <td>427174.0</td>\n",
       "      <td>0.0</td>\n",
       "      <td>0.0</td>\n",
       "    </tr>\n",
       "  </tbody>\n",
       "</table>\n",
       "</div>"
      ],
      "text/plain": [
       "                                Loan ID                           Customer ID  \\\n",
       "0  14dd8831-6af5-400b-83ec-68e61888a048  981165ec-3274-42f5-a3b4-d104041a9ca9   \n",
       "1  4771cc26-131a-45db-b5aa-537ea4ba5342  2de017a3-2e01-49cb-a581-08169e83be29   \n",
       "2  4eed4e6a-aa2f-4c91-8651-ce984ee8fb26  5efb2b2b-bf11-4dfd-a572-3761a2694725   \n",
       "3  77598f7b-32e7-4e3b-a6e5-06ba0d98fe8a  e777faab-98ae-45af-9a86-7ce5b33b1011   \n",
       "4  d4062e70-befa-4995-8643-a0de73938182  81536ad9-5ccf-4eb8-befb-47a4d608658e   \n",
       "\n",
       "  Loan Status  Current Loan Amount        Term  Credit Score  Annual Income  \\\n",
       "0  Fully Paid             445412.0  Short Term         709.0      1167493.0   \n",
       "1  Fully Paid             262328.0  Short Term           NaN            NaN   \n",
       "2  Fully Paid           99999999.0  Short Term         741.0      2231892.0   \n",
       "3  Fully Paid             347666.0   Long Term         721.0       806949.0   \n",
       "4  Fully Paid             176220.0  Short Term           NaN            NaN   \n",
       "\n",
       "  Years in current job Home Ownership             Purpose  Monthly Debt  \\\n",
       "0              8 years  Home Mortgage   Home Improvements       5214.74   \n",
       "1            10+ years  Home Mortgage  Debt Consolidation      33295.98   \n",
       "2              8 years       Own Home  Debt Consolidation      29200.53   \n",
       "3              3 years       Own Home  Debt Consolidation       8741.90   \n",
       "4              5 years           Rent  Debt Consolidation      20639.70   \n",
       "\n",
       "   Years of Credit History  Months since last delinquent  \\\n",
       "0                     17.2                           NaN   \n",
       "1                     21.1                           8.0   \n",
       "2                     14.9                          29.0   \n",
       "3                     12.0                           NaN   \n",
       "4                      6.1                           NaN   \n",
       "\n",
       "   Number of Open Accounts  Number of Credit Problems  Current Credit Balance  \\\n",
       "0                      6.0                        1.0                228190.0   \n",
       "1                     35.0                        0.0                229976.0   \n",
       "2                     18.0                        1.0                297996.0   \n",
       "3                      9.0                        0.0                256329.0   \n",
       "4                     15.0                        0.0                253460.0   \n",
       "\n",
       "   Maximum Open Credit  Bankruptcies  Tax Liens  \n",
       "0             416746.0           1.0        0.0  \n",
       "1             850784.0           0.0        0.0  \n",
       "2             750090.0           0.0        0.0  \n",
       "3             386958.0           0.0        0.0  \n",
       "4             427174.0           0.0        0.0  "
      ]
     },
     "execution_count": 8,
     "metadata": {},
     "output_type": "execute_result"
    }
   ],
   "source": [
    "# It will display the first five rows of the dataset\n",
    "dataset.head()    "
   ]
  },
  {
   "cell_type": "markdown",
   "id": "5b72fcfc",
   "metadata": {},
   "source": [
    "# Null Values"
   ]
  },
  {
   "cell_type": "code",
   "execution_count": 9,
   "id": "5cc1c9b3",
   "metadata": {},
   "outputs": [
    {
     "data": {
      "text/plain": [
       "Loan ID                         True\n",
       "Customer ID                     True\n",
       "Loan Status                     True\n",
       "Current Loan Amount             True\n",
       "Term                            True\n",
       "Credit Score                    True\n",
       "Annual Income                   True\n",
       "Years in current job            True\n",
       "Home Ownership                  True\n",
       "Purpose                         True\n",
       "Monthly Debt                    True\n",
       "Years of Credit History         True\n",
       "Months since last delinquent    True\n",
       "Number of Open Accounts         True\n",
       "Number of Credit Problems       True\n",
       "Current Credit Balance          True\n",
       "Maximum Open Credit             True\n",
       "Bankruptcies                    True\n",
       "Tax Liens                       True\n",
       "dtype: bool"
      ]
     },
     "execution_count": 9,
     "metadata": {},
     "output_type": "execute_result"
    }
   ],
   "source": [
    "#lists the  null values in every column of the dataset\n",
    "dataset.isnull().any()"
   ]
  },
  {
   "cell_type": "code",
   "execution_count": 10,
   "id": "afe6ca65",
   "metadata": {},
   "outputs": [
    {
     "data": {
      "text/plain": [
       "Loan ID                           514\n",
       "Customer ID                       514\n",
       "Loan Status                       514\n",
       "Current Loan Amount               514\n",
       "Term                              514\n",
       "Credit Score                    19668\n",
       "Annual Income                   19668\n",
       "Years in current job             4736\n",
       "Home Ownership                    514\n",
       "Purpose                           514\n",
       "Monthly Debt                      514\n",
       "Years of Credit History           514\n",
       "Months since last delinquent    53655\n",
       "Number of Open Accounts           514\n",
       "Number of Credit Problems         514\n",
       "Current Credit Balance            514\n",
       "Maximum Open Credit               516\n",
       "Bankruptcies                      718\n",
       "Tax Liens                         524\n",
       "dtype: int64"
      ]
     },
     "execution_count": 10,
     "metadata": {},
     "output_type": "execute_result"
    }
   ],
   "source": [
    "#Finding the  sum of null values in every column of the dataset\n",
    "dataset.isnull().sum()"
   ]
  },
  {
   "cell_type": "markdown",
   "id": "a80d6f4b",
   "metadata": {},
   "source": [
    "# Categorical Columns"
   ]
  },
  {
   "cell_type": "code",
   "execution_count": 11,
   "id": "cfed4589",
   "metadata": {},
   "outputs": [
    {
     "data": {
      "text/plain": [
       "Index(['Loan ID', 'Customer ID', 'Loan Status', 'Term', 'Years in current job',\n",
       "       'Home Ownership', 'Purpose'],\n",
       "      dtype='object')"
      ]
     },
     "execution_count": 11,
     "metadata": {},
     "output_type": "execute_result"
    }
   ],
   "source": [
    "#lists the columns with categorical data\n",
    "object_train_df=dataset.select_dtypes(include=['object'])    \n",
    "object_train_df.columns"
   ]
  },
  {
   "cell_type": "markdown",
   "id": "721604f7",
   "metadata": {},
   "source": [
    "# Numerical Columns"
   ]
  },
  {
   "cell_type": "code",
   "execution_count": 12,
   "id": "cf8599a9",
   "metadata": {},
   "outputs": [
    {
     "data": {
      "text/plain": [
       "Index(['Current Loan Amount', 'Credit Score', 'Annual Income', 'Monthly Debt',\n",
       "       'Years of Credit History', 'Months since last delinquent',\n",
       "       'Number of Open Accounts', 'Number of Credit Problems',\n",
       "       'Current Credit Balance', 'Maximum Open Credit', 'Bankruptcies',\n",
       "       'Tax Liens'],\n",
       "      dtype='object')"
      ]
     },
     "execution_count": 12,
     "metadata": {},
     "output_type": "execute_result"
    }
   ],
   "source": [
    "#lists the columns with numerical data\n",
    "num_train_df=dataset.select_dtypes(include=['int','float'])     \n",
    "num_train_df.columns"
   ]
  },
  {
   "cell_type": "markdown",
   "id": "656ac566",
   "metadata": {},
   "source": [
    "# Dropping Loan Status Null Values and Labeling it"
   ]
  },
  {
   "cell_type": "code",
   "execution_count": 13,
   "id": "29ee120d",
   "metadata": {},
   "outputs": [],
   "source": [
    "dataset.dropna(subset=['Loan Status'], inplace=True)"
   ]
  },
  {
   "cell_type": "code",
   "execution_count": 14,
   "id": "a8b097be",
   "metadata": {},
   "outputs": [],
   "source": [
    "from sklearn.preprocessing import LabelEncoder\n",
    "le =LabelEncoder()\n",
    "dataset['Loan Status'] = le.fit_transform(dataset['Loan Status'])"
   ]
  },
  {
   "cell_type": "code",
   "execution_count": 15,
   "id": "432bd0e7",
   "metadata": {},
   "outputs": [
    {
     "data": {
      "text/html": [
       "<div>\n",
       "<style scoped>\n",
       "    .dataframe tbody tr th:only-of-type {\n",
       "        vertical-align: middle;\n",
       "    }\n",
       "\n",
       "    .dataframe tbody tr th {\n",
       "        vertical-align: top;\n",
       "    }\n",
       "\n",
       "    .dataframe thead th {\n",
       "        text-align: right;\n",
       "    }\n",
       "</style>\n",
       "<table border=\"1\" class=\"dataframe\">\n",
       "  <thead>\n",
       "    <tr style=\"text-align: right;\">\n",
       "      <th></th>\n",
       "      <th>Loan ID</th>\n",
       "      <th>Customer ID</th>\n",
       "      <th>Loan Status</th>\n",
       "      <th>Current Loan Amount</th>\n",
       "      <th>Term</th>\n",
       "      <th>Credit Score</th>\n",
       "      <th>Annual Income</th>\n",
       "      <th>Years in current job</th>\n",
       "      <th>Home Ownership</th>\n",
       "      <th>Purpose</th>\n",
       "      <th>Monthly Debt</th>\n",
       "      <th>Years of Credit History</th>\n",
       "      <th>Months since last delinquent</th>\n",
       "      <th>Number of Open Accounts</th>\n",
       "      <th>Number of Credit Problems</th>\n",
       "      <th>Current Credit Balance</th>\n",
       "      <th>Maximum Open Credit</th>\n",
       "      <th>Bankruptcies</th>\n",
       "      <th>Tax Liens</th>\n",
       "    </tr>\n",
       "  </thead>\n",
       "  <tbody>\n",
       "    <tr>\n",
       "      <th>0</th>\n",
       "      <td>14dd8831-6af5-400b-83ec-68e61888a048</td>\n",
       "      <td>981165ec-3274-42f5-a3b4-d104041a9ca9</td>\n",
       "      <td>1</td>\n",
       "      <td>445412.0</td>\n",
       "      <td>Short Term</td>\n",
       "      <td>709.0</td>\n",
       "      <td>1167493.0</td>\n",
       "      <td>8 years</td>\n",
       "      <td>Home Mortgage</td>\n",
       "      <td>Home Improvements</td>\n",
       "      <td>5214.74</td>\n",
       "      <td>17.2</td>\n",
       "      <td>NaN</td>\n",
       "      <td>6.0</td>\n",
       "      <td>1.0</td>\n",
       "      <td>228190.0</td>\n",
       "      <td>416746.0</td>\n",
       "      <td>1.0</td>\n",
       "      <td>0.0</td>\n",
       "    </tr>\n",
       "    <tr>\n",
       "      <th>1</th>\n",
       "      <td>4771cc26-131a-45db-b5aa-537ea4ba5342</td>\n",
       "      <td>2de017a3-2e01-49cb-a581-08169e83be29</td>\n",
       "      <td>1</td>\n",
       "      <td>262328.0</td>\n",
       "      <td>Short Term</td>\n",
       "      <td>NaN</td>\n",
       "      <td>NaN</td>\n",
       "      <td>10+ years</td>\n",
       "      <td>Home Mortgage</td>\n",
       "      <td>Debt Consolidation</td>\n",
       "      <td>33295.98</td>\n",
       "      <td>21.1</td>\n",
       "      <td>8.0</td>\n",
       "      <td>35.0</td>\n",
       "      <td>0.0</td>\n",
       "      <td>229976.0</td>\n",
       "      <td>850784.0</td>\n",
       "      <td>0.0</td>\n",
       "      <td>0.0</td>\n",
       "    </tr>\n",
       "    <tr>\n",
       "      <th>2</th>\n",
       "      <td>4eed4e6a-aa2f-4c91-8651-ce984ee8fb26</td>\n",
       "      <td>5efb2b2b-bf11-4dfd-a572-3761a2694725</td>\n",
       "      <td>1</td>\n",
       "      <td>99999999.0</td>\n",
       "      <td>Short Term</td>\n",
       "      <td>741.0</td>\n",
       "      <td>2231892.0</td>\n",
       "      <td>8 years</td>\n",
       "      <td>Own Home</td>\n",
       "      <td>Debt Consolidation</td>\n",
       "      <td>29200.53</td>\n",
       "      <td>14.9</td>\n",
       "      <td>29.0</td>\n",
       "      <td>18.0</td>\n",
       "      <td>1.0</td>\n",
       "      <td>297996.0</td>\n",
       "      <td>750090.0</td>\n",
       "      <td>0.0</td>\n",
       "      <td>0.0</td>\n",
       "    </tr>\n",
       "    <tr>\n",
       "      <th>3</th>\n",
       "      <td>77598f7b-32e7-4e3b-a6e5-06ba0d98fe8a</td>\n",
       "      <td>e777faab-98ae-45af-9a86-7ce5b33b1011</td>\n",
       "      <td>1</td>\n",
       "      <td>347666.0</td>\n",
       "      <td>Long Term</td>\n",
       "      <td>721.0</td>\n",
       "      <td>806949.0</td>\n",
       "      <td>3 years</td>\n",
       "      <td>Own Home</td>\n",
       "      <td>Debt Consolidation</td>\n",
       "      <td>8741.90</td>\n",
       "      <td>12.0</td>\n",
       "      <td>NaN</td>\n",
       "      <td>9.0</td>\n",
       "      <td>0.0</td>\n",
       "      <td>256329.0</td>\n",
       "      <td>386958.0</td>\n",
       "      <td>0.0</td>\n",
       "      <td>0.0</td>\n",
       "    </tr>\n",
       "    <tr>\n",
       "      <th>4</th>\n",
       "      <td>d4062e70-befa-4995-8643-a0de73938182</td>\n",
       "      <td>81536ad9-5ccf-4eb8-befb-47a4d608658e</td>\n",
       "      <td>1</td>\n",
       "      <td>176220.0</td>\n",
       "      <td>Short Term</td>\n",
       "      <td>NaN</td>\n",
       "      <td>NaN</td>\n",
       "      <td>5 years</td>\n",
       "      <td>Rent</td>\n",
       "      <td>Debt Consolidation</td>\n",
       "      <td>20639.70</td>\n",
       "      <td>6.1</td>\n",
       "      <td>NaN</td>\n",
       "      <td>15.0</td>\n",
       "      <td>0.0</td>\n",
       "      <td>253460.0</td>\n",
       "      <td>427174.0</td>\n",
       "      <td>0.0</td>\n",
       "      <td>0.0</td>\n",
       "    </tr>\n",
       "    <tr>\n",
       "      <th>...</th>\n",
       "      <td>...</td>\n",
       "      <td>...</td>\n",
       "      <td>...</td>\n",
       "      <td>...</td>\n",
       "      <td>...</td>\n",
       "      <td>...</td>\n",
       "      <td>...</td>\n",
       "      <td>...</td>\n",
       "      <td>...</td>\n",
       "      <td>...</td>\n",
       "      <td>...</td>\n",
       "      <td>...</td>\n",
       "      <td>...</td>\n",
       "      <td>...</td>\n",
       "      <td>...</td>\n",
       "      <td>...</td>\n",
       "      <td>...</td>\n",
       "      <td>...</td>\n",
       "      <td>...</td>\n",
       "    </tr>\n",
       "    <tr>\n",
       "      <th>99995</th>\n",
       "      <td>3f94c18c-ba8f-45d0-8610-88a684a410a9</td>\n",
       "      <td>2da51983-cfef-4b8f-a733-5dfaf69e9281</td>\n",
       "      <td>1</td>\n",
       "      <td>147070.0</td>\n",
       "      <td>Short Term</td>\n",
       "      <td>725.0</td>\n",
       "      <td>475437.0</td>\n",
       "      <td>7 years</td>\n",
       "      <td>Own Home</td>\n",
       "      <td>other</td>\n",
       "      <td>2202.86</td>\n",
       "      <td>22.3</td>\n",
       "      <td>NaN</td>\n",
       "      <td>5.0</td>\n",
       "      <td>0.0</td>\n",
       "      <td>47766.0</td>\n",
       "      <td>658548.0</td>\n",
       "      <td>0.0</td>\n",
       "      <td>0.0</td>\n",
       "    </tr>\n",
       "    <tr>\n",
       "      <th>99996</th>\n",
       "      <td>06eba04f-58fc-424a-b666-ed72aa008900</td>\n",
       "      <td>77f2252a-b7d1-4b07-a746-1202a8304290</td>\n",
       "      <td>1</td>\n",
       "      <td>99999999.0</td>\n",
       "      <td>Short Term</td>\n",
       "      <td>732.0</td>\n",
       "      <td>1289416.0</td>\n",
       "      <td>1 year</td>\n",
       "      <td>Rent</td>\n",
       "      <td>Debt Consolidation</td>\n",
       "      <td>13109.05</td>\n",
       "      <td>9.4</td>\n",
       "      <td>21.0</td>\n",
       "      <td>22.0</td>\n",
       "      <td>0.0</td>\n",
       "      <td>153045.0</td>\n",
       "      <td>509234.0</td>\n",
       "      <td>0.0</td>\n",
       "      <td>0.0</td>\n",
       "    </tr>\n",
       "    <tr>\n",
       "      <th>99997</th>\n",
       "      <td>e1cb4050-eff5-4bdb-a1b0-aabd3f7eaac7</td>\n",
       "      <td>2ced5f10-bd60-4a11-9134-cadce4e7b0a3</td>\n",
       "      <td>1</td>\n",
       "      <td>103136.0</td>\n",
       "      <td>Short Term</td>\n",
       "      <td>742.0</td>\n",
       "      <td>1150545.0</td>\n",
       "      <td>6 years</td>\n",
       "      <td>Rent</td>\n",
       "      <td>Debt Consolidation</td>\n",
       "      <td>7315.57</td>\n",
       "      <td>18.8</td>\n",
       "      <td>18.0</td>\n",
       "      <td>12.0</td>\n",
       "      <td>1.0</td>\n",
       "      <td>109554.0</td>\n",
       "      <td>537548.0</td>\n",
       "      <td>1.0</td>\n",
       "      <td>0.0</td>\n",
       "    </tr>\n",
       "    <tr>\n",
       "      <th>99998</th>\n",
       "      <td>81ab928b-d1a5-4523-9a3c-271ebb01b4fb</td>\n",
       "      <td>3e45ffda-99fd-4cfc-b8b8-446f4a505f36</td>\n",
       "      <td>1</td>\n",
       "      <td>530332.0</td>\n",
       "      <td>Short Term</td>\n",
       "      <td>746.0</td>\n",
       "      <td>1717524.0</td>\n",
       "      <td>9 years</td>\n",
       "      <td>Rent</td>\n",
       "      <td>Debt Consolidation</td>\n",
       "      <td>9890.07</td>\n",
       "      <td>15.0</td>\n",
       "      <td>NaN</td>\n",
       "      <td>8.0</td>\n",
       "      <td>0.0</td>\n",
       "      <td>404225.0</td>\n",
       "      <td>738254.0</td>\n",
       "      <td>0.0</td>\n",
       "      <td>0.0</td>\n",
       "    </tr>\n",
       "    <tr>\n",
       "      <th>99999</th>\n",
       "      <td>c63916c6-6d46-47a9-949a-51d09af4414f</td>\n",
       "      <td>1b3014be-5c07-4d41-abe7-44573c375886</td>\n",
       "      <td>1</td>\n",
       "      <td>99999999.0</td>\n",
       "      <td>Short Term</td>\n",
       "      <td>743.0</td>\n",
       "      <td>935180.0</td>\n",
       "      <td>NaN</td>\n",
       "      <td>Own Home</td>\n",
       "      <td>Debt Consolidation</td>\n",
       "      <td>9118.10</td>\n",
       "      <td>13.0</td>\n",
       "      <td>NaN</td>\n",
       "      <td>4.0</td>\n",
       "      <td>1.0</td>\n",
       "      <td>45600.0</td>\n",
       "      <td>91014.0</td>\n",
       "      <td>1.0</td>\n",
       "      <td>0.0</td>\n",
       "    </tr>\n",
       "  </tbody>\n",
       "</table>\n",
       "<p>100000 rows × 19 columns</p>\n",
       "</div>"
      ],
      "text/plain": [
       "                                    Loan ID  \\\n",
       "0      14dd8831-6af5-400b-83ec-68e61888a048   \n",
       "1      4771cc26-131a-45db-b5aa-537ea4ba5342   \n",
       "2      4eed4e6a-aa2f-4c91-8651-ce984ee8fb26   \n",
       "3      77598f7b-32e7-4e3b-a6e5-06ba0d98fe8a   \n",
       "4      d4062e70-befa-4995-8643-a0de73938182   \n",
       "...                                     ...   \n",
       "99995  3f94c18c-ba8f-45d0-8610-88a684a410a9   \n",
       "99996  06eba04f-58fc-424a-b666-ed72aa008900   \n",
       "99997  e1cb4050-eff5-4bdb-a1b0-aabd3f7eaac7   \n",
       "99998  81ab928b-d1a5-4523-9a3c-271ebb01b4fb   \n",
       "99999  c63916c6-6d46-47a9-949a-51d09af4414f   \n",
       "\n",
       "                                Customer ID  Loan Status  Current Loan Amount  \\\n",
       "0      981165ec-3274-42f5-a3b4-d104041a9ca9            1             445412.0   \n",
       "1      2de017a3-2e01-49cb-a581-08169e83be29            1             262328.0   \n",
       "2      5efb2b2b-bf11-4dfd-a572-3761a2694725            1           99999999.0   \n",
       "3      e777faab-98ae-45af-9a86-7ce5b33b1011            1             347666.0   \n",
       "4      81536ad9-5ccf-4eb8-befb-47a4d608658e            1             176220.0   \n",
       "...                                     ...          ...                  ...   \n",
       "99995  2da51983-cfef-4b8f-a733-5dfaf69e9281            1             147070.0   \n",
       "99996  77f2252a-b7d1-4b07-a746-1202a8304290            1           99999999.0   \n",
       "99997  2ced5f10-bd60-4a11-9134-cadce4e7b0a3            1             103136.0   \n",
       "99998  3e45ffda-99fd-4cfc-b8b8-446f4a505f36            1             530332.0   \n",
       "99999  1b3014be-5c07-4d41-abe7-44573c375886            1           99999999.0   \n",
       "\n",
       "             Term  Credit Score  Annual Income Years in current job  \\\n",
       "0      Short Term         709.0      1167493.0              8 years   \n",
       "1      Short Term           NaN            NaN            10+ years   \n",
       "2      Short Term         741.0      2231892.0              8 years   \n",
       "3       Long Term         721.0       806949.0              3 years   \n",
       "4      Short Term           NaN            NaN              5 years   \n",
       "...           ...           ...            ...                  ...   \n",
       "99995  Short Term         725.0       475437.0              7 years   \n",
       "99996  Short Term         732.0      1289416.0               1 year   \n",
       "99997  Short Term         742.0      1150545.0              6 years   \n",
       "99998  Short Term         746.0      1717524.0              9 years   \n",
       "99999  Short Term         743.0       935180.0                  NaN   \n",
       "\n",
       "      Home Ownership             Purpose  Monthly Debt  \\\n",
       "0      Home Mortgage   Home Improvements       5214.74   \n",
       "1      Home Mortgage  Debt Consolidation      33295.98   \n",
       "2           Own Home  Debt Consolidation      29200.53   \n",
       "3           Own Home  Debt Consolidation       8741.90   \n",
       "4               Rent  Debt Consolidation      20639.70   \n",
       "...              ...                 ...           ...   \n",
       "99995       Own Home               other       2202.86   \n",
       "99996           Rent  Debt Consolidation      13109.05   \n",
       "99997           Rent  Debt Consolidation       7315.57   \n",
       "99998           Rent  Debt Consolidation       9890.07   \n",
       "99999       Own Home  Debt Consolidation       9118.10   \n",
       "\n",
       "       Years of Credit History  Months since last delinquent  \\\n",
       "0                         17.2                           NaN   \n",
       "1                         21.1                           8.0   \n",
       "2                         14.9                          29.0   \n",
       "3                         12.0                           NaN   \n",
       "4                          6.1                           NaN   \n",
       "...                        ...                           ...   \n",
       "99995                     22.3                           NaN   \n",
       "99996                      9.4                          21.0   \n",
       "99997                     18.8                          18.0   \n",
       "99998                     15.0                           NaN   \n",
       "99999                     13.0                           NaN   \n",
       "\n",
       "       Number of Open Accounts  Number of Credit Problems  \\\n",
       "0                          6.0                        1.0   \n",
       "1                         35.0                        0.0   \n",
       "2                         18.0                        1.0   \n",
       "3                          9.0                        0.0   \n",
       "4                         15.0                        0.0   \n",
       "...                        ...                        ...   \n",
       "99995                      5.0                        0.0   \n",
       "99996                     22.0                        0.0   \n",
       "99997                     12.0                        1.0   \n",
       "99998                      8.0                        0.0   \n",
       "99999                      4.0                        1.0   \n",
       "\n",
       "       Current Credit Balance  Maximum Open Credit  Bankruptcies  Tax Liens  \n",
       "0                    228190.0             416746.0           1.0        0.0  \n",
       "1                    229976.0             850784.0           0.0        0.0  \n",
       "2                    297996.0             750090.0           0.0        0.0  \n",
       "3                    256329.0             386958.0           0.0        0.0  \n",
       "4                    253460.0             427174.0           0.0        0.0  \n",
       "...                       ...                  ...           ...        ...  \n",
       "99995                 47766.0             658548.0           0.0        0.0  \n",
       "99996                153045.0             509234.0           0.0        0.0  \n",
       "99997                109554.0             537548.0           1.0        0.0  \n",
       "99998                404225.0             738254.0           0.0        0.0  \n",
       "99999                 45600.0              91014.0           1.0        0.0  \n",
       "\n",
       "[100000 rows x 19 columns]"
      ]
     },
     "execution_count": 15,
     "metadata": {},
     "output_type": "execute_result"
    }
   ],
   "source": [
    "dataset"
   ]
  },
  {
   "cell_type": "markdown",
   "id": "d451409c",
   "metadata": {},
   "source": [
    "# Term column Labeling"
   ]
  },
  {
   "cell_type": "code",
   "execution_count": 16,
   "id": "dd34c905",
   "metadata": {
    "scrolled": true
   },
   "outputs": [
    {
     "data": {
      "text/html": [
       "<div>\n",
       "<style scoped>\n",
       "    .dataframe tbody tr th:only-of-type {\n",
       "        vertical-align: middle;\n",
       "    }\n",
       "\n",
       "    .dataframe tbody tr th {\n",
       "        vertical-align: top;\n",
       "    }\n",
       "\n",
       "    .dataframe thead th {\n",
       "        text-align: right;\n",
       "    }\n",
       "</style>\n",
       "<table border=\"1\" class=\"dataframe\">\n",
       "  <thead>\n",
       "    <tr style=\"text-align: right;\">\n",
       "      <th></th>\n",
       "      <th>Loan ID</th>\n",
       "      <th>Customer ID</th>\n",
       "      <th>Loan Status</th>\n",
       "      <th>Current Loan Amount</th>\n",
       "      <th>Term</th>\n",
       "      <th>Credit Score</th>\n",
       "      <th>Annual Income</th>\n",
       "      <th>Years in current job</th>\n",
       "      <th>Home Ownership</th>\n",
       "      <th>Purpose</th>\n",
       "      <th>Monthly Debt</th>\n",
       "      <th>Years of Credit History</th>\n",
       "      <th>Months since last delinquent</th>\n",
       "      <th>Number of Open Accounts</th>\n",
       "      <th>Number of Credit Problems</th>\n",
       "      <th>Current Credit Balance</th>\n",
       "      <th>Maximum Open Credit</th>\n",
       "      <th>Bankruptcies</th>\n",
       "      <th>Tax Liens</th>\n",
       "    </tr>\n",
       "  </thead>\n",
       "  <tbody>\n",
       "    <tr>\n",
       "      <th>0</th>\n",
       "      <td>14dd8831-6af5-400b-83ec-68e61888a048</td>\n",
       "      <td>981165ec-3274-42f5-a3b4-d104041a9ca9</td>\n",
       "      <td>1</td>\n",
       "      <td>445412.0</td>\n",
       "      <td>0</td>\n",
       "      <td>709.0</td>\n",
       "      <td>1167493.0</td>\n",
       "      <td>8 years</td>\n",
       "      <td>Home Mortgage</td>\n",
       "      <td>Home Improvements</td>\n",
       "      <td>5214.74</td>\n",
       "      <td>17.2</td>\n",
       "      <td>NaN</td>\n",
       "      <td>6.0</td>\n",
       "      <td>1.0</td>\n",
       "      <td>228190.0</td>\n",
       "      <td>416746.0</td>\n",
       "      <td>1.0</td>\n",
       "      <td>0.0</td>\n",
       "    </tr>\n",
       "    <tr>\n",
       "      <th>1</th>\n",
       "      <td>4771cc26-131a-45db-b5aa-537ea4ba5342</td>\n",
       "      <td>2de017a3-2e01-49cb-a581-08169e83be29</td>\n",
       "      <td>1</td>\n",
       "      <td>262328.0</td>\n",
       "      <td>0</td>\n",
       "      <td>NaN</td>\n",
       "      <td>NaN</td>\n",
       "      <td>10+ years</td>\n",
       "      <td>Home Mortgage</td>\n",
       "      <td>Debt Consolidation</td>\n",
       "      <td>33295.98</td>\n",
       "      <td>21.1</td>\n",
       "      <td>8.0</td>\n",
       "      <td>35.0</td>\n",
       "      <td>0.0</td>\n",
       "      <td>229976.0</td>\n",
       "      <td>850784.0</td>\n",
       "      <td>0.0</td>\n",
       "      <td>0.0</td>\n",
       "    </tr>\n",
       "    <tr>\n",
       "      <th>2</th>\n",
       "      <td>4eed4e6a-aa2f-4c91-8651-ce984ee8fb26</td>\n",
       "      <td>5efb2b2b-bf11-4dfd-a572-3761a2694725</td>\n",
       "      <td>1</td>\n",
       "      <td>99999999.0</td>\n",
       "      <td>0</td>\n",
       "      <td>741.0</td>\n",
       "      <td>2231892.0</td>\n",
       "      <td>8 years</td>\n",
       "      <td>Own Home</td>\n",
       "      <td>Debt Consolidation</td>\n",
       "      <td>29200.53</td>\n",
       "      <td>14.9</td>\n",
       "      <td>29.0</td>\n",
       "      <td>18.0</td>\n",
       "      <td>1.0</td>\n",
       "      <td>297996.0</td>\n",
       "      <td>750090.0</td>\n",
       "      <td>0.0</td>\n",
       "      <td>0.0</td>\n",
       "    </tr>\n",
       "    <tr>\n",
       "      <th>3</th>\n",
       "      <td>77598f7b-32e7-4e3b-a6e5-06ba0d98fe8a</td>\n",
       "      <td>e777faab-98ae-45af-9a86-7ce5b33b1011</td>\n",
       "      <td>1</td>\n",
       "      <td>347666.0</td>\n",
       "      <td>1</td>\n",
       "      <td>721.0</td>\n",
       "      <td>806949.0</td>\n",
       "      <td>3 years</td>\n",
       "      <td>Own Home</td>\n",
       "      <td>Debt Consolidation</td>\n",
       "      <td>8741.90</td>\n",
       "      <td>12.0</td>\n",
       "      <td>NaN</td>\n",
       "      <td>9.0</td>\n",
       "      <td>0.0</td>\n",
       "      <td>256329.0</td>\n",
       "      <td>386958.0</td>\n",
       "      <td>0.0</td>\n",
       "      <td>0.0</td>\n",
       "    </tr>\n",
       "    <tr>\n",
       "      <th>4</th>\n",
       "      <td>d4062e70-befa-4995-8643-a0de73938182</td>\n",
       "      <td>81536ad9-5ccf-4eb8-befb-47a4d608658e</td>\n",
       "      <td>1</td>\n",
       "      <td>176220.0</td>\n",
       "      <td>0</td>\n",
       "      <td>NaN</td>\n",
       "      <td>NaN</td>\n",
       "      <td>5 years</td>\n",
       "      <td>Rent</td>\n",
       "      <td>Debt Consolidation</td>\n",
       "      <td>20639.70</td>\n",
       "      <td>6.1</td>\n",
       "      <td>NaN</td>\n",
       "      <td>15.0</td>\n",
       "      <td>0.0</td>\n",
       "      <td>253460.0</td>\n",
       "      <td>427174.0</td>\n",
       "      <td>0.0</td>\n",
       "      <td>0.0</td>\n",
       "    </tr>\n",
       "  </tbody>\n",
       "</table>\n",
       "</div>"
      ],
      "text/plain": [
       "                                Loan ID                           Customer ID  \\\n",
       "0  14dd8831-6af5-400b-83ec-68e61888a048  981165ec-3274-42f5-a3b4-d104041a9ca9   \n",
       "1  4771cc26-131a-45db-b5aa-537ea4ba5342  2de017a3-2e01-49cb-a581-08169e83be29   \n",
       "2  4eed4e6a-aa2f-4c91-8651-ce984ee8fb26  5efb2b2b-bf11-4dfd-a572-3761a2694725   \n",
       "3  77598f7b-32e7-4e3b-a6e5-06ba0d98fe8a  e777faab-98ae-45af-9a86-7ce5b33b1011   \n",
       "4  d4062e70-befa-4995-8643-a0de73938182  81536ad9-5ccf-4eb8-befb-47a4d608658e   \n",
       "\n",
       "   Loan Status  Current Loan Amount  Term  Credit Score  Annual Income  \\\n",
       "0            1             445412.0     0         709.0      1167493.0   \n",
       "1            1             262328.0     0           NaN            NaN   \n",
       "2            1           99999999.0     0         741.0      2231892.0   \n",
       "3            1             347666.0     1         721.0       806949.0   \n",
       "4            1             176220.0     0           NaN            NaN   \n",
       "\n",
       "  Years in current job Home Ownership             Purpose  Monthly Debt  \\\n",
       "0              8 years  Home Mortgage   Home Improvements       5214.74   \n",
       "1            10+ years  Home Mortgage  Debt Consolidation      33295.98   \n",
       "2              8 years       Own Home  Debt Consolidation      29200.53   \n",
       "3              3 years       Own Home  Debt Consolidation       8741.90   \n",
       "4              5 years           Rent  Debt Consolidation      20639.70   \n",
       "\n",
       "   Years of Credit History  Months since last delinquent  \\\n",
       "0                     17.2                           NaN   \n",
       "1                     21.1                           8.0   \n",
       "2                     14.9                          29.0   \n",
       "3                     12.0                           NaN   \n",
       "4                      6.1                           NaN   \n",
       "\n",
       "   Number of Open Accounts  Number of Credit Problems  Current Credit Balance  \\\n",
       "0                      6.0                        1.0                228190.0   \n",
       "1                     35.0                        0.0                229976.0   \n",
       "2                     18.0                        1.0                297996.0   \n",
       "3                      9.0                        0.0                256329.0   \n",
       "4                     15.0                        0.0                253460.0   \n",
       "\n",
       "   Maximum Open Credit  Bankruptcies  Tax Liens  \n",
       "0             416746.0           1.0        0.0  \n",
       "1             850784.0           0.0        0.0  \n",
       "2             750090.0           0.0        0.0  \n",
       "3             386958.0           0.0        0.0  \n",
       "4             427174.0           0.0        0.0  "
      ]
     },
     "execution_count": 16,
     "metadata": {},
     "output_type": "execute_result"
    }
   ],
   "source": [
    "dataset['Term'].replace(('Short Term','Long Term'),(0,1),inplace=True)\n",
    "dataset.head()"
   ]
  },
  {
   "cell_type": "markdown",
   "id": "3052b2b4",
   "metadata": {},
   "source": [
    "# Scaling Credit Score Column"
   ]
  },
  {
   "cell_type": "code",
   "execution_count": 17,
   "id": "d9292f21",
   "metadata": {},
   "outputs": [],
   "source": [
    "#Applying lamda function\n",
    "dataset['Credit Score'] = dataset['Credit Score'].apply(lambda val: (val /10) if val>850 else val)"
   ]
  },
  {
   "cell_type": "markdown",
   "id": "35568a42",
   "metadata": {},
   "source": [
    "# Handling Null values of Credit Score Column"
   ]
  },
  {
   "cell_type": "code",
   "execution_count": 18,
   "id": "13c5402c",
   "metadata": {},
   "outputs": [],
   "source": [
    "do_nothing = lambda: None\n",
    "cscoredf = dataset[dataset['Term']==0]\n",
    "stermAVG = cscoredf['Credit Score'].mean()\n",
    "lscoredf = dataset[dataset['Term']==1]\n",
    "ltermAVG = lscoredf['Credit Score'].mean()\n",
    "dataset.loc[(dataset.Term==0) & (dataset['Credit Score'].isnull()),'Credit Score'] = stermAVG\n",
    "dataset.loc[(dataset.Term==1) & (dataset['Credit Score'].isnull()),'Credit Score'] = ltermAVG"
   ]
  },
  {
   "cell_type": "code",
   "execution_count": 19,
   "id": "ce04047d",
   "metadata": {},
   "outputs": [],
   "source": [
    "dataset['Credit Score'] = dataset['Credit Score'].apply(lambda val: \"Poor\" if np.isreal(val) and val < 580 else val)\n",
    "dataset['Credit Score'] = dataset['Credit Score'].apply(lambda val: \"Average\" if np.isreal(val) and (val >= 580 and val < 670) else val)\n",
    "dataset['Credit Score'] = dataset['Credit Score'].apply(lambda val: \"Good\" if np.isreal(val) and (val >= 670 and val < 740) else val)\n",
    "dataset['Credit Score'] = dataset['Credit Score'].apply(lambda val: \"Very Good\" if np.isreal(val) and (val >= 740 and val < 800) else val)\n",
    "dataset['Credit Score'] = dataset['Credit Score'].apply(lambda val: \"Exceptional\" if np.isreal(val) and (val >= 800 and val <= 850) else val)"
   ]
  },
  {
   "cell_type": "markdown",
   "id": "2419782e",
   "metadata": {},
   "source": [
    "# Analying the data"
   ]
  },
  {
   "cell_type": "code",
   "execution_count": 20,
   "id": "446ad272",
   "metadata": {},
   "outputs": [
    {
     "data": {
      "text/plain": [
       "<AxesSubplot:title={'center':'Credit Score category'}>"
      ]
     },
     "execution_count": 20,
     "metadata": {},
     "output_type": "execute_result"
    },
    {
     "data": {
      "image/png": "[encoded data removed]",
      "text/plain": [
       "<Figure size 432x288 with 1 Axes>"
      ]
     },
     "metadata": {
      "needs_background": "light"
     },
     "output_type": "display_data"
    }
   ],
   "source": [
    "## The graph lists out the counts in an ascending way\n",
    "dataset['Credit Score'].value_counts().sort_values(ascending = True).plot(kind='bar', title = 'Credit Score category')"
   ]
  },
  {
   "cell_type": "markdown",
   "id": "79ec9308",
   "metadata": {},
   "source": [
    "# Annual income column\n",
    "\n"
   ]
  },
  {
   "cell_type": "code",
   "execution_count": 21,
   "id": "16c1a4eb",
   "metadata": {},
   "outputs": [
    {
     "name": "stdout",
     "output_type": "stream",
     "text": [
      "There are 19154 Missing Annual Income Values.\n"
     ]
    }
   ],
   "source": [
    "# Prints the sum of missing values in the column Annual Income.\n",
    "print(\"There are\",dataset['Annual Income'].isna().sum(), \"Missing Annual Income Values.\")"
   ]
  },
  {
   "cell_type": "code",
   "execution_count": 22,
   "id": "8427e2cc",
   "metadata": {},
   "outputs": [],
   "source": [
    "#by using fillna function we are filling the null values with the mean method inplace where it is true.\n",
    "dataset['Annual Income'].fillna(dataset['Annual Income'].mean(), inplace=True)"
   ]
  },
  {
   "cell_type": "code",
   "execution_count": 23,
   "id": "442b98a6",
   "metadata": {},
   "outputs": [
    {
     "data": {
      "text/plain": [
       "(100000, 19)"
      ]
     },
     "execution_count": 23,
     "metadata": {},
     "output_type": "execute_result"
    }
   ],
   "source": [
    "#finding the data shape\n",
    "dataset.shape"
   ]
  },
  {
   "cell_type": "code",
   "execution_count": 26,
   "id": "51405655",
   "metadata": {},
   "outputs": [
    {
     "name": "stdout",
     "output_type": "stream",
     "text": [
      "Counter({1: 75506, 2: 18479, 0: 6015})\n"
     ]
    }
   ],
   "source": [
    "#By using the counter function we are to get the count of Good, Very Good and Average.\n",
    "from collections import Counter as c\n",
    "print(c(dataset['Credit Score']))  #returns the class count values "
   ]
  },
  {
   "cell_type": "code",
   "execution_count": 27,
   "id": "0fe08e4b",
   "metadata": {},
   "outputs": [
    {
     "data": {
      "text/plain": [
       "Counter({1: 75506, 2: 18479, 0: 6015})"
      ]
     },
     "execution_count": 27,
     "metadata": {},
     "output_type": "execute_result"
    }
   ],
   "source": [
    "##applying label encoder\n",
    "dataset['Credit Score'] = le.fit_transform(dataset['Credit Score'])\n",
    "c(dataset['Credit Score'])"
   ]
  },
  {
   "cell_type": "markdown",
   "id": "4ce55a95",
   "metadata": {},
   "source": [
    "# Home Ownership Column"
   ]
  },
  {
   "cell_type": "code",
   "execution_count": 28,
   "id": "d0ab6cd3",
   "metadata": {},
   "outputs": [
    {
     "data": {
      "text/plain": [
       "<AxesSubplot:title={'center':'Number of Loan based on Home ownership'}>"
      ]
     },
     "execution_count": 28,
     "metadata": {},
     "output_type": "execute_result"
    },
    {
     "data": {
      "image/png": "[encoded data removed]",
      "text/plain": [
       "<Figure size 432x288 with 1 Axes>"
      ]
     },
     "metadata": {
      "needs_background": "light"
     },
     "output_type": "display_data"
    }
   ],
   "source": [
    "#Home Ownership Column   we are sorting the elements with values in ascending order. \n",
    "dataset['Home Ownership'].value_counts().sort_values(ascending = True).plot(kind='bar', title=\"Number of Loan based on Home ownership\")"
   ]
  },
  {
   "cell_type": "code",
   "execution_count": 29,
   "id": "7c6c113f",
   "metadata": {},
   "outputs": [
    {
     "name": "stdout",
     "output_type": "stream",
     "text": [
      "Counter({'Home Mortgage': 48410, 'Rent': 42194, 'Own Home': 9182, 'HaveMortgage': 214})\n",
      "Counter({1: 48410, 3: 42194, 2: 9182, 0: 214})\n"
     ]
    }
   ],
   "source": [
    "print(c(dataset['Home Ownership']))\n",
    "dataset['Home Ownership'] =  le.fit_transform(dataset['Home Ownership'])\n",
    "print(c(dataset['Home Ownership']))"
   ]
  },
  {
   "cell_type": "code",
   "execution_count": 37,
   "id": "e83b24d6",
   "metadata": {},
   "outputs": [
    {
     "data": {
      "text/plain": [
       "<AxesSubplot:>"
      ]
     },
     "execution_count": 37,
     "metadata": {},
     "output_type": "execute_result"
    },
    {
     "data": {
      "image/png": "[encoded data removed]",
      "text/plain": [
       "<Figure size 1080x720 with 2 Axes>"
      ]
     },
     "metadata": {
      "needs_background": "light"
     },
     "output_type": "display_data"
    }
   ],
   "source": [
    "corr = dataset.corr() \n",
    "plt.figure(figsize=(15,10))\n",
    "sns.heatmap(corr,annot = True, cmap=\"BuPu\")"
   ]
  },
  {
   "cell_type": "code",
   "execution_count": 34,
   "id": "856cb46e",
   "metadata": {},
   "outputs": [
    {
     "name": "stderr",
     "output_type": "stream",
     "text": [
      "C:\\Users\\Nagayelamarthi\\anaconda3\\lib\\site-packages\\seaborn\\_decorators.py:36: FutureWarning: Pass the following variable as a keyword arg: x. From version 0.12, the only valid positional argument will be `data`, and passing other arguments without an explicit keyword will result in an error or misinterpretation.\n",
      "  warnings.warn(\n"
     ]
    },
    {
     "data": {
      "text/plain": [
       "<AxesSubplot:xlabel='Loan Status', ylabel='count'>"
      ]
     },
     "execution_count": 34,
     "metadata": {},
     "output_type": "execute_result"
    },
    {
     "data": {
      "image/png": "[encoded data removed]",
      "text/plain": [
       "<Figure size 432x288 with 1 Axes>"
      ]
     },
     "metadata": {
      "needs_background": "light"
     },
     "output_type": "display_data"
    }
   ],
   "source": [
    "sns.countplot(dataset['Loan Status'])"
   ]
  },
  {
   "cell_type": "code",
   "execution_count": null,
   "id": "fe867f17",
   "metadata": {},
   "outputs": [],
   "source": []
  },
  {
   "cell_type": "markdown",
   "id": "2b0808fe",
   "metadata": {},
   "source": [
    "# Years in current job"
   ]
  },
  {
   "cell_type": "code",
   "execution_count": 34,
   "id": "0486d58a",
   "metadata": {},
   "outputs": [],
   "source": [
    "dataset['Years in current job']=dataset['Years in current job'].str.extract(r\"(\\d+)\")\n",
    "dataset['Years in current job'] = dataset['Years in current job'].astype(float)"
   ]
  },
  {
   "cell_type": "code",
   "execution_count": 35,
   "id": "a48f4c08",
   "metadata": {},
   "outputs": [],
   "source": [
    "expmean = dataset['Years in current job'].mean()"
   ]
  },
  {
   "cell_type": "code",
   "execution_count": 36,
   "id": "911ca847",
   "metadata": {},
   "outputs": [],
   "source": [
    "dataset['Years in current job'].fillna(expmean, inplace=True)\n",
    "dataset['Years in current job'].fillna(expmean, inplace=True)"
   ]
  },
  {
   "cell_type": "code",
   "execution_count": 37,
   "id": "70c7ea9b",
   "metadata": {},
   "outputs": [
    {
     "data": {
      "text/html": [
       "<div>\n",
       "<style scoped>\n",
       "    .dataframe tbody tr th:only-of-type {\n",
       "        vertical-align: middle;\n",
       "    }\n",
       "\n",
       "    .dataframe tbody tr th {\n",
       "        vertical-align: top;\n",
       "    }\n",
       "\n",
       "    .dataframe thead th {\n",
       "        text-align: right;\n",
       "    }\n",
       "</style>\n",
       "<table border=\"1\" class=\"dataframe\">\n",
       "  <thead>\n",
       "    <tr style=\"text-align: right;\">\n",
       "      <th></th>\n",
       "      <th>Loan ID</th>\n",
       "      <th>Customer ID</th>\n",
       "      <th>Loan Status</th>\n",
       "      <th>Current Loan Amount</th>\n",
       "      <th>Term</th>\n",
       "      <th>Credit Score</th>\n",
       "      <th>Annual Income</th>\n",
       "      <th>Years in current job</th>\n",
       "      <th>Home Ownership</th>\n",
       "      <th>Purpose</th>\n",
       "      <th>Monthly Debt</th>\n",
       "      <th>Years of Credit History</th>\n",
       "      <th>Months since last delinquent</th>\n",
       "      <th>Number of Open Accounts</th>\n",
       "      <th>Number of Credit Problems</th>\n",
       "      <th>Current Credit Balance</th>\n",
       "      <th>Maximum Open Credit</th>\n",
       "      <th>Bankruptcies</th>\n",
       "      <th>Tax Liens</th>\n",
       "    </tr>\n",
       "  </thead>\n",
       "  <tbody>\n",
       "    <tr>\n",
       "      <th>0</th>\n",
       "      <td>14dd8831-6af5-400b-83ec-68e61888a048</td>\n",
       "      <td>981165ec-3274-42f5-a3b4-d104041a9ca9</td>\n",
       "      <td>1</td>\n",
       "      <td>445412.0</td>\n",
       "      <td>0</td>\n",
       "      <td>1</td>\n",
       "      <td>1.167493e+06</td>\n",
       "      <td>8.000000</td>\n",
       "      <td>1</td>\n",
       "      <td>Home Improvements</td>\n",
       "      <td>5214.74</td>\n",
       "      <td>17.2</td>\n",
       "      <td>NaN</td>\n",
       "      <td>6.0</td>\n",
       "      <td>1.0</td>\n",
       "      <td>228190.0</td>\n",
       "      <td>416746.0</td>\n",
       "      <td>1.0</td>\n",
       "      <td>0.0</td>\n",
       "    </tr>\n",
       "    <tr>\n",
       "      <th>1</th>\n",
       "      <td>4771cc26-131a-45db-b5aa-537ea4ba5342</td>\n",
       "      <td>2de017a3-2e01-49cb-a581-08169e83be29</td>\n",
       "      <td>1</td>\n",
       "      <td>262328.0</td>\n",
       "      <td>0</td>\n",
       "      <td>1</td>\n",
       "      <td>1.378277e+06</td>\n",
       "      <td>10.000000</td>\n",
       "      <td>1</td>\n",
       "      <td>Debt Consolidation</td>\n",
       "      <td>33295.98</td>\n",
       "      <td>21.1</td>\n",
       "      <td>8.0</td>\n",
       "      <td>35.0</td>\n",
       "      <td>0.0</td>\n",
       "      <td>229976.0</td>\n",
       "      <td>850784.0</td>\n",
       "      <td>0.0</td>\n",
       "      <td>0.0</td>\n",
       "    </tr>\n",
       "    <tr>\n",
       "      <th>2</th>\n",
       "      <td>4eed4e6a-aa2f-4c91-8651-ce984ee8fb26</td>\n",
       "      <td>5efb2b2b-bf11-4dfd-a572-3761a2694725</td>\n",
       "      <td>1</td>\n",
       "      <td>99999999.0</td>\n",
       "      <td>0</td>\n",
       "      <td>2</td>\n",
       "      <td>2.231892e+06</td>\n",
       "      <td>8.000000</td>\n",
       "      <td>2</td>\n",
       "      <td>Debt Consolidation</td>\n",
       "      <td>29200.53</td>\n",
       "      <td>14.9</td>\n",
       "      <td>29.0</td>\n",
       "      <td>18.0</td>\n",
       "      <td>1.0</td>\n",
       "      <td>297996.0</td>\n",
       "      <td>750090.0</td>\n",
       "      <td>0.0</td>\n",
       "      <td>0.0</td>\n",
       "    </tr>\n",
       "    <tr>\n",
       "      <th>3</th>\n",
       "      <td>77598f7b-32e7-4e3b-a6e5-06ba0d98fe8a</td>\n",
       "      <td>e777faab-98ae-45af-9a86-7ce5b33b1011</td>\n",
       "      <td>1</td>\n",
       "      <td>347666.0</td>\n",
       "      <td>1</td>\n",
       "      <td>1</td>\n",
       "      <td>8.069490e+05</td>\n",
       "      <td>3.000000</td>\n",
       "      <td>2</td>\n",
       "      <td>Debt Consolidation</td>\n",
       "      <td>8741.90</td>\n",
       "      <td>12.0</td>\n",
       "      <td>NaN</td>\n",
       "      <td>9.0</td>\n",
       "      <td>0.0</td>\n",
       "      <td>256329.0</td>\n",
       "      <td>386958.0</td>\n",
       "      <td>0.0</td>\n",
       "      <td>0.0</td>\n",
       "    </tr>\n",
       "    <tr>\n",
       "      <th>4</th>\n",
       "      <td>d4062e70-befa-4995-8643-a0de73938182</td>\n",
       "      <td>81536ad9-5ccf-4eb8-befb-47a4d608658e</td>\n",
       "      <td>1</td>\n",
       "      <td>176220.0</td>\n",
       "      <td>0</td>\n",
       "      <td>1</td>\n",
       "      <td>1.378277e+06</td>\n",
       "      <td>5.000000</td>\n",
       "      <td>3</td>\n",
       "      <td>Debt Consolidation</td>\n",
       "      <td>20639.70</td>\n",
       "      <td>6.1</td>\n",
       "      <td>NaN</td>\n",
       "      <td>15.0</td>\n",
       "      <td>0.0</td>\n",
       "      <td>253460.0</td>\n",
       "      <td>427174.0</td>\n",
       "      <td>0.0</td>\n",
       "      <td>0.0</td>\n",
       "    </tr>\n",
       "    <tr>\n",
       "      <th>...</th>\n",
       "      <td>...</td>\n",
       "      <td>...</td>\n",
       "      <td>...</td>\n",
       "      <td>...</td>\n",
       "      <td>...</td>\n",
       "      <td>...</td>\n",
       "      <td>...</td>\n",
       "      <td>...</td>\n",
       "      <td>...</td>\n",
       "      <td>...</td>\n",
       "      <td>...</td>\n",
       "      <td>...</td>\n",
       "      <td>...</td>\n",
       "      <td>...</td>\n",
       "      <td>...</td>\n",
       "      <td>...</td>\n",
       "      <td>...</td>\n",
       "      <td>...</td>\n",
       "      <td>...</td>\n",
       "    </tr>\n",
       "    <tr>\n",
       "      <th>99995</th>\n",
       "      <td>3f94c18c-ba8f-45d0-8610-88a684a410a9</td>\n",
       "      <td>2da51983-cfef-4b8f-a733-5dfaf69e9281</td>\n",
       "      <td>1</td>\n",
       "      <td>147070.0</td>\n",
       "      <td>0</td>\n",
       "      <td>1</td>\n",
       "      <td>4.754370e+05</td>\n",
       "      <td>7.000000</td>\n",
       "      <td>2</td>\n",
       "      <td>other</td>\n",
       "      <td>2202.86</td>\n",
       "      <td>22.3</td>\n",
       "      <td>NaN</td>\n",
       "      <td>5.0</td>\n",
       "      <td>0.0</td>\n",
       "      <td>47766.0</td>\n",
       "      <td>658548.0</td>\n",
       "      <td>0.0</td>\n",
       "      <td>0.0</td>\n",
       "    </tr>\n",
       "    <tr>\n",
       "      <th>99996</th>\n",
       "      <td>06eba04f-58fc-424a-b666-ed72aa008900</td>\n",
       "      <td>77f2252a-b7d1-4b07-a746-1202a8304290</td>\n",
       "      <td>1</td>\n",
       "      <td>99999999.0</td>\n",
       "      <td>0</td>\n",
       "      <td>1</td>\n",
       "      <td>1.289416e+06</td>\n",
       "      <td>1.000000</td>\n",
       "      <td>3</td>\n",
       "      <td>Debt Consolidation</td>\n",
       "      <td>13109.05</td>\n",
       "      <td>9.4</td>\n",
       "      <td>21.0</td>\n",
       "      <td>22.0</td>\n",
       "      <td>0.0</td>\n",
       "      <td>153045.0</td>\n",
       "      <td>509234.0</td>\n",
       "      <td>0.0</td>\n",
       "      <td>0.0</td>\n",
       "    </tr>\n",
       "    <tr>\n",
       "      <th>99997</th>\n",
       "      <td>e1cb4050-eff5-4bdb-a1b0-aabd3f7eaac7</td>\n",
       "      <td>2ced5f10-bd60-4a11-9134-cadce4e7b0a3</td>\n",
       "      <td>1</td>\n",
       "      <td>103136.0</td>\n",
       "      <td>0</td>\n",
       "      <td>2</td>\n",
       "      <td>1.150545e+06</td>\n",
       "      <td>6.000000</td>\n",
       "      <td>3</td>\n",
       "      <td>Debt Consolidation</td>\n",
       "      <td>7315.57</td>\n",
       "      <td>18.8</td>\n",
       "      <td>18.0</td>\n",
       "      <td>12.0</td>\n",
       "      <td>1.0</td>\n",
       "      <td>109554.0</td>\n",
       "      <td>537548.0</td>\n",
       "      <td>1.0</td>\n",
       "      <td>0.0</td>\n",
       "    </tr>\n",
       "    <tr>\n",
       "      <th>99998</th>\n",
       "      <td>81ab928b-d1a5-4523-9a3c-271ebb01b4fb</td>\n",
       "      <td>3e45ffda-99fd-4cfc-b8b8-446f4a505f36</td>\n",
       "      <td>1</td>\n",
       "      <td>530332.0</td>\n",
       "      <td>0</td>\n",
       "      <td>2</td>\n",
       "      <td>1.717524e+06</td>\n",
       "      <td>9.000000</td>\n",
       "      <td>3</td>\n",
       "      <td>Debt Consolidation</td>\n",
       "      <td>9890.07</td>\n",
       "      <td>15.0</td>\n",
       "      <td>NaN</td>\n",
       "      <td>8.0</td>\n",
       "      <td>0.0</td>\n",
       "      <td>404225.0</td>\n",
       "      <td>738254.0</td>\n",
       "      <td>0.0</td>\n",
       "      <td>0.0</td>\n",
       "    </tr>\n",
       "    <tr>\n",
       "      <th>99999</th>\n",
       "      <td>c63916c6-6d46-47a9-949a-51d09af4414f</td>\n",
       "      <td>1b3014be-5c07-4d41-abe7-44573c375886</td>\n",
       "      <td>1</td>\n",
       "      <td>99999999.0</td>\n",
       "      <td>0</td>\n",
       "      <td>2</td>\n",
       "      <td>9.351800e+05</td>\n",
       "      <td>5.977594</td>\n",
       "      <td>2</td>\n",
       "      <td>Debt Consolidation</td>\n",
       "      <td>9118.10</td>\n",
       "      <td>13.0</td>\n",
       "      <td>NaN</td>\n",
       "      <td>4.0</td>\n",
       "      <td>1.0</td>\n",
       "      <td>45600.0</td>\n",
       "      <td>91014.0</td>\n",
       "      <td>1.0</td>\n",
       "      <td>0.0</td>\n",
       "    </tr>\n",
       "  </tbody>\n",
       "</table>\n",
       "<p>100000 rows × 19 columns</p>\n",
       "</div>"
      ],
      "text/plain": [
       "                                    Loan ID  \\\n",
       "0      14dd8831-6af5-400b-83ec-68e61888a048   \n",
       "1      4771cc26-131a-45db-b5aa-537ea4ba5342   \n",
       "2      4eed4e6a-aa2f-4c91-8651-ce984ee8fb26   \n",
       "3      77598f7b-32e7-4e3b-a6e5-06ba0d98fe8a   \n",
       "4      d4062e70-befa-4995-8643-a0de73938182   \n",
       "...                                     ...   \n",
       "99995  3f94c18c-ba8f-45d0-8610-88a684a410a9   \n",
       "99996  06eba04f-58fc-424a-b666-ed72aa008900   \n",
       "99997  e1cb4050-eff5-4bdb-a1b0-aabd3f7eaac7   \n",
       "99998  81ab928b-d1a5-4523-9a3c-271ebb01b4fb   \n",
       "99999  c63916c6-6d46-47a9-949a-51d09af4414f   \n",
       "\n",
       "                                Customer ID  Loan Status  Current Loan Amount  \\\n",
       "0      981165ec-3274-42f5-a3b4-d104041a9ca9            1             445412.0   \n",
       "1      2de017a3-2e01-49cb-a581-08169e83be29            1             262328.0   \n",
       "2      5efb2b2b-bf11-4dfd-a572-3761a2694725            1           99999999.0   \n",
       "3      e777faab-98ae-45af-9a86-7ce5b33b1011            1             347666.0   \n",
       "4      81536ad9-5ccf-4eb8-befb-47a4d608658e            1             176220.0   \n",
       "...                                     ...          ...                  ...   \n",
       "99995  2da51983-cfef-4b8f-a733-5dfaf69e9281            1             147070.0   \n",
       "99996  77f2252a-b7d1-4b07-a746-1202a8304290            1           99999999.0   \n",
       "99997  2ced5f10-bd60-4a11-9134-cadce4e7b0a3            1             103136.0   \n",
       "99998  3e45ffda-99fd-4cfc-b8b8-446f4a505f36            1             530332.0   \n",
       "99999  1b3014be-5c07-4d41-abe7-44573c375886            1           99999999.0   \n",
       "\n",
       "       Term  Credit Score  Annual Income  Years in current job  \\\n",
       "0         0             1   1.167493e+06              8.000000   \n",
       "1         0             1   1.378277e+06             10.000000   \n",
       "2         0             2   2.231892e+06              8.000000   \n",
       "3         1             1   8.069490e+05              3.000000   \n",
       "4         0             1   1.378277e+06              5.000000   \n",
       "...     ...           ...            ...                   ...   \n",
       "99995     0             1   4.754370e+05              7.000000   \n",
       "99996     0             1   1.289416e+06              1.000000   \n",
       "99997     0             2   1.150545e+06              6.000000   \n",
       "99998     0             2   1.717524e+06              9.000000   \n",
       "99999     0             2   9.351800e+05              5.977594   \n",
       "\n",
       "       Home Ownership             Purpose  Monthly Debt  \\\n",
       "0                   1   Home Improvements       5214.74   \n",
       "1                   1  Debt Consolidation      33295.98   \n",
       "2                   2  Debt Consolidation      29200.53   \n",
       "3                   2  Debt Consolidation       8741.90   \n",
       "4                   3  Debt Consolidation      20639.70   \n",
       "...               ...                 ...           ...   \n",
       "99995               2               other       2202.86   \n",
       "99996               3  Debt Consolidation      13109.05   \n",
       "99997               3  Debt Consolidation       7315.57   \n",
       "99998               3  Debt Consolidation       9890.07   \n",
       "99999               2  Debt Consolidation       9118.10   \n",
       "\n",
       "       Years of Credit History  Months since last delinquent  \\\n",
       "0                         17.2                           NaN   \n",
       "1                         21.1                           8.0   \n",
       "2                         14.9                          29.0   \n",
       "3                         12.0                           NaN   \n",
       "4                          6.1                           NaN   \n",
       "...                        ...                           ...   \n",
       "99995                     22.3                           NaN   \n",
       "99996                      9.4                          21.0   \n",
       "99997                     18.8                          18.0   \n",
       "99998                     15.0                           NaN   \n",
       "99999                     13.0                           NaN   \n",
       "\n",
       "       Number of Open Accounts  Number of Credit Problems  \\\n",
       "0                          6.0                        1.0   \n",
       "1                         35.0                        0.0   \n",
       "2                         18.0                        1.0   \n",
       "3                          9.0                        0.0   \n",
       "4                         15.0                        0.0   \n",
       "...                        ...                        ...   \n",
       "99995                      5.0                        0.0   \n",
       "99996                     22.0                        0.0   \n",
       "99997                     12.0                        1.0   \n",
       "99998                      8.0                        0.0   \n",
       "99999                      4.0                        1.0   \n",
       "\n",
       "       Current Credit Balance  Maximum Open Credit  Bankruptcies  Tax Liens  \n",
       "0                    228190.0             416746.0           1.0        0.0  \n",
       "1                    229976.0             850784.0           0.0        0.0  \n",
       "2                    297996.0             750090.0           0.0        0.0  \n",
       "3                    256329.0             386958.0           0.0        0.0  \n",
       "4                    253460.0             427174.0           0.0        0.0  \n",
       "...                       ...                  ...           ...        ...  \n",
       "99995                 47766.0             658548.0           0.0        0.0  \n",
       "99996                153045.0             509234.0           0.0        0.0  \n",
       "99997                109554.0             537548.0           1.0        0.0  \n",
       "99998                404225.0             738254.0           0.0        0.0  \n",
       "99999                 45600.0              91014.0           1.0        0.0  \n",
       "\n",
       "[100000 rows x 19 columns]"
      ]
     },
     "execution_count": 37,
     "metadata": {},
     "output_type": "execute_result"
    }
   ],
   "source": [
    "dataset"
   ]
  },
  {
   "cell_type": "markdown",
   "id": "41caa288",
   "metadata": {},
   "source": [
    "# Dropping unwanted columns"
   ]
  },
  {
   "cell_type": "code",
   "execution_count": 38,
   "id": "6e4542f1",
   "metadata": {},
   "outputs": [],
   "source": [
    "dataset = dataset.drop(['Loan ID','Customer ID','Purpose'], axis=1)"
   ]
  },
  {
   "cell_type": "markdown",
   "id": "280443d1",
   "metadata": {},
   "source": [
    "# Credit Problems"
   ]
  },
  {
   "cell_type": "code",
   "execution_count": 39,
   "id": "0e29bb75",
   "metadata": {},
   "outputs": [],
   "source": [
    "#Normalizing \n",
    "dataset['Credit Problems'] = dataset['Number of Credit Problems'].apply(lambda x: \"No Credit Problem\" if x==0 else (\"Some Credit promblem\" if x>0 and x<5 else \"Major Credit Problems\"))"
   ]
  },
  {
   "cell_type": "code",
   "execution_count": 40,
   "id": "e6652518",
   "metadata": {},
   "outputs": [
    {
     "name": "stdout",
     "output_type": "stream",
     "text": [
      "Counter({'No Credit Problem': 86035, 'Some Credit promblem': 13879, 'Major Credit Problems': 86})\n",
      "Counter({1: 86035, 2: 13879, 0: 86})\n"
     ]
    }
   ],
   "source": [
    "print(c(dataset['Credit Problems']))\n",
    "dataset['Credit Problems'] = le.fit_transform(dataset['Credit Problems'])\n",
    "print(c(dataset['Credit Problems']))"
   ]
  },
  {
   "cell_type": "markdown",
   "id": "159115c4",
   "metadata": {},
   "source": [
    "# Credit Age\n"
   ]
  },
  {
   "cell_type": "code",
   "execution_count": 41,
   "id": "825009c3",
   "metadata": {},
   "outputs": [],
   "source": [
    "dataset['Credit Age'] = dataset['Years of Credit History'].apply(lambda x: \"Short Credit Age\" if x<5 \n",
    "                                else (\"Good Credit Age\" if x>5 and x<17 else \"Exceptional Credit Age\"))"
   ]
  },
  {
   "cell_type": "code",
   "execution_count": 42,
   "id": "eadd4706",
   "metadata": {},
   "outputs": [
    {
     "name": "stdout",
     "output_type": "stream",
     "text": [
      "Counter({'Exceptional Credit Age': 49958, 'Good Credit Age': 49848, 'Short Credit Age': 194})\n",
      "Counter({0: 49958, 1: 49848, 2: 194})\n"
     ]
    }
   ],
   "source": [
    "print(c(dataset['Credit Age']))\n",
    "dataset['Credit Age'] = le.fit_transform(dataset['Credit Age'])\n",
    "print(c(dataset['Credit Age']))"
   ]
  },
  {
   "cell_type": "code",
   "execution_count": 43,
   "id": "6884874e",
   "metadata": {},
   "outputs": [],
   "source": [
    "dataset = dataset.drop(['Months since last delinquent','Number of Open Accounts',\n",
    "                  'Maximum Open Credit','Current Credit Balance','Monthly Debt'],axis=1)"
   ]
  },
  {
   "cell_type": "markdown",
   "id": "932da2a6",
   "metadata": {},
   "source": [
    "# Tax Liens"
   ]
  },
  {
   "cell_type": "code",
   "execution_count": 44,
   "id": "3e7b7a66",
   "metadata": {},
   "outputs": [],
   "source": [
    "dataset['Tax Liens'] = dataset['Tax Liens'].apply(lambda x: \"No Tax Lien\" if x==0 else (\"Some Tax Liens\" if x>0 and x<3 else \"Many Tax Liens\"))"
   ]
  },
  {
   "cell_type": "code",
   "execution_count": 45,
   "id": "7fcd7b84",
   "metadata": {},
   "outputs": [
    {
     "name": "stdout",
     "output_type": "stream",
     "text": [
      "Counter({'No Tax Lien': 98062, 'Some Tax Liens': 1717, 'Many Tax Liens': 221})\n",
      "Counter({1: 98062, 2: 1717, 0: 221})\n"
     ]
    }
   ],
   "source": [
    "print(c(dataset['Tax Liens']))\n",
    "dataset['Tax Liens'] = le.fit_transform(dataset['Tax Liens'])\n",
    "print(c(dataset['Tax Liens']))"
   ]
  },
  {
   "cell_type": "markdown",
   "id": "3dfafbe2",
   "metadata": {},
   "source": [
    "# Bankruptcies"
   ]
  },
  {
   "cell_type": "code",
   "execution_count": 46,
   "id": "ac07e6f8",
   "metadata": {},
   "outputs": [],
   "source": [
    "dataset['Bankruptcies'] = dataset['Bankruptcies'].apply(lambda x: \"No bankruptcies\" if x==0  else (\"Some Bankruptcies\" if x>0 and x<3 else \"Many Bankruptcies\"))"
   ]
  },
  {
   "cell_type": "code",
   "execution_count": 47,
   "id": "f8cbf24e",
   "metadata": {},
   "outputs": [
    {
     "name": "stdout",
     "output_type": "stream",
     "text": [
      "Counter({'No bankruptcies': 88774, 'Some Bankruptcies': 10892, 'Many Bankruptcies': 334})\n",
      "Counter({1: 88774, 2: 10892, 0: 334})\n"
     ]
    }
   ],
   "source": [
    "print(c(dataset['Bankruptcies']))\n",
    "dataset['Bankruptcies'] = le.fit_transform(dataset['Bankruptcies'])\n",
    "print(c(dataset['Bankruptcies']))"
   ]
  },
  {
   "cell_type": "markdown",
   "id": "d95529d5",
   "metadata": {},
   "source": [
    "# Annual Income"
   ]
  },
  {
   "cell_type": "code",
   "execution_count": 48,
   "id": "79b33af8",
   "metadata": {},
   "outputs": [],
   "source": [
    "meanxoutlier = dataset[dataset['Annual Income'] < 99999999.00 ]['Annual Income'].mean()\n",
    "stddevxoutlier = dataset[dataset['Annual Income'] < 99999999.00 ]['Annual Income'].std()\n",
    "poorline = meanxoutlier -  stddevxoutlier\n",
    "richline = meanxoutlier + stddevxoutlier"
   ]
  },
  {
   "cell_type": "code",
   "execution_count": 49,
   "id": "8ede2980",
   "metadata": {},
   "outputs": [],
   "source": [
    "dataset['Annual Income'] = dataset['Annual Income'].apply(lambda x: \"Low Income\" if x<=poorline  else (\"Average Income\" if x>poorline and x<richline else \"High Income\"))"
   ]
  },
  {
   "cell_type": "code",
   "execution_count": 50,
   "id": "0bceae56",
   "metadata": {},
   "outputs": [
    {
     "name": "stdout",
     "output_type": "stream",
     "text": [
      "Counter({'Average Income': 86004, 'High Income': 9145, 'Low Income': 4851})\n",
      "Counter({0: 86004, 1: 9145, 2: 4851})\n"
     ]
    }
   ],
   "source": [
    "print(c(dataset['Annual Income']))\n",
    "dataset['Annual Income'] = le.fit_transform(dataset['Annual Income'])\n",
    "print(c(dataset['Annual Income']))"
   ]
  },
  {
   "cell_type": "markdown",
   "id": "fe00c244",
   "metadata": {},
   "source": [
    "# Current Loan Amount"
   ]
  },
  {
   "cell_type": "code",
   "execution_count": 51,
   "id": "d915475e",
   "metadata": {},
   "outputs": [
    {
     "name": "stdout",
     "output_type": "stream",
     "text": [
      "126051.43019084723 498575.76557037106\n"
     ]
    }
   ],
   "source": [
    "lmeanxoutlier = dataset[dataset['Current Loan Amount'] < 99999999.00 ]['Current Loan Amount'].mean()\n",
    "lstddevxoutlier = dataset[dataset['Current Loan Amount'] < 99999999.00 ]['Current Loan Amount'].std()\n",
    "lowrange = lmeanxoutlier - lstddevxoutlier\n",
    "highrange = lmeanxoutlier + lstddevxoutlier\n",
    "print(lowrange, highrange)"
   ]
  },
  {
   "cell_type": "code",
   "execution_count": 52,
   "id": "3f6a6b39",
   "metadata": {},
   "outputs": [],
   "source": [
    "dataset['Current Loan Amount'] = dataset['Current Loan Amount'].apply(lambda x: \"Small Loan\" if x<=lowrange else (\"Medium Loan\" if x>lowrange and x<highrange else \"Big Loan\"))"
   ]
  },
  {
   "cell_type": "code",
   "execution_count": 53,
   "id": "43b04c92",
   "metadata": {},
   "outputs": [
    {
     "name": "stdout",
     "output_type": "stream",
     "text": [
      "Counter({'Medium Loan': 60112, 'Big Loan': 26506, 'Small Loan': 13382})\n",
      "Counter({1: 60112, 0: 26506, 2: 13382})\n"
     ]
    }
   ],
   "source": [
    "print(c(dataset['Current Loan Amount']))\n",
    "dataset['Current Loan Amount'] = le.fit_transform(dataset['Current Loan Amount'])\n",
    "print(c(dataset['Current Loan Amount']))"
   ]
  },
  {
   "cell_type": "code",
   "execution_count": 54,
   "id": "78c21ba4",
   "metadata": {},
   "outputs": [
    {
     "data": {
      "text/plain": [
       "(100000, 13)"
      ]
     },
     "execution_count": 54,
     "metadata": {},
     "output_type": "execute_result"
    }
   ],
   "source": [
    "dataset.shape"
   ]
  },
  {
   "cell_type": "markdown",
   "id": "6c022059",
   "metadata": {},
   "source": [
    "# Seperating Dependent and Independent Columns"
   ]
  },
  {
   "cell_type": "code",
   "execution_count": 55,
   "id": "fa2727fc",
   "metadata": {},
   "outputs": [],
   "source": [
    "y = dataset['Loan Status']\n",
    "X = dataset.drop(['Loan Status'],axis=1)"
   ]
  },
  {
   "cell_type": "code",
   "execution_count": 56,
   "id": "bce3cf3b",
   "metadata": {},
   "outputs": [
    {
     "data": {
      "text/html": [
       "<div>\n",
       "<style scoped>\n",
       "    .dataframe tbody tr th:only-of-type {\n",
       "        vertical-align: middle;\n",
       "    }\n",
       "\n",
       "    .dataframe tbody tr th {\n",
       "        vertical-align: top;\n",
       "    }\n",
       "\n",
       "    .dataframe thead th {\n",
       "        text-align: right;\n",
       "    }\n",
       "</style>\n",
       "<table border=\"1\" class=\"dataframe\">\n",
       "  <thead>\n",
       "    <tr style=\"text-align: right;\">\n",
       "      <th></th>\n",
       "      <th>Loan Status</th>\n",
       "      <th>Current Loan Amount</th>\n",
       "      <th>Term</th>\n",
       "      <th>Credit Score</th>\n",
       "      <th>Annual Income</th>\n",
       "      <th>Years in current job</th>\n",
       "      <th>Home Ownership</th>\n",
       "      <th>Years of Credit History</th>\n",
       "      <th>Number of Credit Problems</th>\n",
       "      <th>Bankruptcies</th>\n",
       "      <th>Tax Liens</th>\n",
       "      <th>Credit Problems</th>\n",
       "      <th>Credit Age</th>\n",
       "    </tr>\n",
       "  </thead>\n",
       "  <tbody>\n",
       "    <tr>\n",
       "      <th>0</th>\n",
       "      <td>1</td>\n",
       "      <td>1</td>\n",
       "      <td>0</td>\n",
       "      <td>1</td>\n",
       "      <td>0</td>\n",
       "      <td>8.0</td>\n",
       "      <td>1</td>\n",
       "      <td>17.2</td>\n",
       "      <td>1.0</td>\n",
       "      <td>2</td>\n",
       "      <td>1</td>\n",
       "      <td>2</td>\n",
       "      <td>0</td>\n",
       "    </tr>\n",
       "    <tr>\n",
       "      <th>1</th>\n",
       "      <td>1</td>\n",
       "      <td>1</td>\n",
       "      <td>0</td>\n",
       "      <td>1</td>\n",
       "      <td>0</td>\n",
       "      <td>10.0</td>\n",
       "      <td>1</td>\n",
       "      <td>21.1</td>\n",
       "      <td>0.0</td>\n",
       "      <td>1</td>\n",
       "      <td>1</td>\n",
       "      <td>1</td>\n",
       "      <td>0</td>\n",
       "    </tr>\n",
       "    <tr>\n",
       "      <th>2</th>\n",
       "      <td>1</td>\n",
       "      <td>0</td>\n",
       "      <td>0</td>\n",
       "      <td>2</td>\n",
       "      <td>1</td>\n",
       "      <td>8.0</td>\n",
       "      <td>2</td>\n",
       "      <td>14.9</td>\n",
       "      <td>1.0</td>\n",
       "      <td>1</td>\n",
       "      <td>1</td>\n",
       "      <td>2</td>\n",
       "      <td>1</td>\n",
       "    </tr>\n",
       "    <tr>\n",
       "      <th>3</th>\n",
       "      <td>1</td>\n",
       "      <td>1</td>\n",
       "      <td>1</td>\n",
       "      <td>1</td>\n",
       "      <td>0</td>\n",
       "      <td>3.0</td>\n",
       "      <td>2</td>\n",
       "      <td>12.0</td>\n",
       "      <td>0.0</td>\n",
       "      <td>1</td>\n",
       "      <td>1</td>\n",
       "      <td>1</td>\n",
       "      <td>1</td>\n",
       "    </tr>\n",
       "    <tr>\n",
       "      <th>4</th>\n",
       "      <td>1</td>\n",
       "      <td>1</td>\n",
       "      <td>0</td>\n",
       "      <td>1</td>\n",
       "      <td>0</td>\n",
       "      <td>5.0</td>\n",
       "      <td>3</td>\n",
       "      <td>6.1</td>\n",
       "      <td>0.0</td>\n",
       "      <td>1</td>\n",
       "      <td>1</td>\n",
       "      <td>1</td>\n",
       "      <td>1</td>\n",
       "    </tr>\n",
       "  </tbody>\n",
       "</table>\n",
       "</div>"
      ],
      "text/plain": [
       "   Loan Status  Current Loan Amount  Term  Credit Score  Annual Income  \\\n",
       "0            1                    1     0             1              0   \n",
       "1            1                    1     0             1              0   \n",
       "2            1                    0     0             2              1   \n",
       "3            1                    1     1             1              0   \n",
       "4            1                    1     0             1              0   \n",
       "\n",
       "   Years in current job  Home Ownership  Years of Credit History  \\\n",
       "0                   8.0               1                     17.2   \n",
       "1                  10.0               1                     21.1   \n",
       "2                   8.0               2                     14.9   \n",
       "3                   3.0               2                     12.0   \n",
       "4                   5.0               3                      6.1   \n",
       "\n",
       "   Number of Credit Problems  Bankruptcies  Tax Liens  Credit Problems  \\\n",
       "0                        1.0             2          1                2   \n",
       "1                        0.0             1          1                1   \n",
       "2                        1.0             1          1                2   \n",
       "3                        0.0             1          1                1   \n",
       "4                        0.0             1          1                1   \n",
       "\n",
       "   Credit Age  \n",
       "0           0  \n",
       "1           0  \n",
       "2           1  \n",
       "3           1  \n",
       "4           1  "
      ]
     },
     "execution_count": 56,
     "metadata": {},
     "output_type": "execute_result"
    }
   ],
   "source": [
    "dataset.head()"
   ]
  },
  {
   "cell_type": "markdown",
   "id": "2f21690b",
   "metadata": {},
   "source": [
    "# Performing Train and test split"
   ]
  },
  {
   "cell_type": "code",
   "execution_count": 57,
   "id": "3b67df12",
   "metadata": {},
   "outputs": [],
   "source": [
    "X_train, X_test, y_train, y_test = train_test_split(X, y, test_size=0.33, random_state=42)"
   ]
  },
  {
   "cell_type": "code",
   "execution_count": 58,
   "id": "8e01a317",
   "metadata": {},
   "outputs": [],
   "source": [
    "from sklearn.preprocessing import StandardScaler\n",
    "sc = StandardScaler()\n",
    "X_train = sc.fit_transform(X_train)\n",
    "X_test = sc.transform(X_test)"
   ]
  },
  {
   "cell_type": "code",
   "execution_count": 59,
   "id": "140830a1",
   "metadata": {},
   "outputs": [
    {
     "data": {
      "text/plain": [
       "DecisionTreeClassifier()"
      ]
     },
     "execution_count": 59,
     "metadata": {},
     "output_type": "execute_result"
    }
   ],
   "source": [
    "#By using DecisionTree we are fitting the model\n",
    "from sklearn.tree import DecisionTreeClassifier\n",
    "dt = DecisionTreeClassifier()\n",
    "dt.fit(X_train, y_train)"
   ]
  },
  {
   "cell_type": "code",
   "execution_count": 60,
   "id": "mathematical-bangkok",
   "metadata": {},
   "outputs": [
    {
     "data": {
      "text/plain": [
       "(67000, 12)"
      ]
     },
     "execution_count": 60,
     "metadata": {},
     "output_type": "execute_result"
    }
   ],
   "source": [
    "X_train.shape"
   ]
  },
  {
   "cell_type": "code",
   "execution_count": 61,
   "id": "13aed293",
   "metadata": {},
   "outputs": [
    {
     "data": {
      "text/plain": [
       "Counter({0: 6716, 1: 26284})"
      ]
     },
     "execution_count": 61,
     "metadata": {},
     "output_type": "execute_result"
    }
   ],
   "source": [
    "y_pred_dt =dt.predict(X_test)  #prediction\n",
    "c(y_pred_dt)"
   ]
  },
  {
   "cell_type": "code",
   "execution_count": 62,
   "id": "bridal-southwest",
   "metadata": {},
   "outputs": [
    {
     "data": {
      "text/plain": [
       "array([[ 0.21538779, -0.62204006, -0.25995262, ..., -0.10969543,\n",
       "        -0.39894497,  0.98973021],\n",
       "       [-1.40134783, -0.62204006,  1.82489603, ..., -0.10969543,\n",
       "        -0.39894497,  0.98973021],\n",
       "       [-1.40134783, -0.62204006, -0.25995262, ..., -0.10969543,\n",
       "        -0.39894497, -0.99423114],\n",
       "       ...,\n",
       "       [ 0.21538779, -0.62204006, -0.25995262, ..., -0.10969543,\n",
       "        -0.39894497, -0.99423114],\n",
       "       [ 0.21538779, -0.62204006, -0.25995262, ..., -0.10969543,\n",
       "         2.47147096,  0.98973021],\n",
       "       [ 0.21538779, -0.62204006, -0.25995262, ..., -0.10969543,\n",
       "        -0.39894497, -0.99423114]])"
      ]
     },
     "execution_count": 62,
     "metadata": {},
     "output_type": "execute_result"
    }
   ],
   "source": [
    "X_train"
   ]
  },
  {
   "cell_type": "code",
   "execution_count": 66,
   "id": "listed-screen",
   "metadata": {},
   "outputs": [
    {
     "data": {
      "text/plain": [
       "array([[ 0.21538779, -0.62204006, -0.25995262, ..., -0.10969543,\n",
       "        -0.39894497,  0.98973021],\n",
       "       [ 0.21538779, -0.62204006, -0.25995262, ..., -0.10969543,\n",
       "         2.47147096,  0.98973021],\n",
       "       [ 0.21538779,  1.60761349, -2.34480128, ..., -0.10969543,\n",
       "        -0.39894497,  0.98973021],\n",
       "       ...,\n",
       "       [ 1.83212341, -0.62204006, -0.25995262, ..., -0.10969543,\n",
       "        -0.39894497,  0.98973021],\n",
       "       [ 1.83212341, -0.62204006, -0.25995262, ..., -0.10969543,\n",
       "        -0.39894497,  0.98973021],\n",
       "       [ 0.21538779, -0.62204006, -0.25995262, ..., -0.10969543,\n",
       "        -0.39894497, -0.99423114]])"
      ]
     },
     "execution_count": 66,
     "metadata": {},
     "output_type": "execute_result"
    }
   ],
   "source": [
    "X_test"
   ]
  },
  {
   "cell_type": "code",
   "execution_count": 67,
   "id": "1a0b93df",
   "metadata": {},
   "outputs": [],
   "source": [
    "from sklearn.metrics import accuracy_score"
   ]
  },
  {
   "cell_type": "code",
   "execution_count": 69,
   "id": "e7d07ad1",
   "metadata": {},
   "outputs": [
    {
     "data": {
      "text/plain": [
       "0.6917575757575758"
      ]
     },
     "execution_count": 69,
     "metadata": {},
     "output_type": "execute_result"
    }
   ],
   "source": [
    "accuracy_score(y_pred_dt,y_test)"
   ]
  },
  {
   "cell_type": "markdown",
   "id": "be94a3c8",
   "metadata": {},
   "source": [
    "# Creating a pickle file dumping the model in it"
   ]
  },
  {
   "cell_type": "code",
   "execution_count": 70,
   "id": "3fc793b1",
   "metadata": {},
   "outputs": [],
   "source": [
    " #importing the pickle file\n",
    "import pickle \n",
    "#Dumping the model into the pickle file\n",
    "pickle.dump(dt,open('loan.pkl','wb'))   "
   ]
  },
  {
   "cell_type": "code",
   "execution_count": null,
   "id": "abb60fc2",
   "metadata": {},
   "outputs": [],
   "source": []
  }
 ],
 "metadata": {
  "kernelspec": {
   "display_name": "Python 3",
   "language": "python",
   "name": "python3"
  },
  "language_info": {
   "codemirror_mode": {
    "name": "ipython",
    "version": 3
   },
   "file_extension": ".py",
   "mimetype": "text/x-python",
   "name": "python",
   "nbconvert_exporter": "python",
   "pygments_lexer": "ipython3",
   "version": "3.8.8"
  }
 },
 "nbformat": 4,
 "nbformat_minor": 5
}
